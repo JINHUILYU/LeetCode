{
 "cells": [
  {
   "cell_type": "markdown",
   "id": "6f717741",
   "metadata": {},
   "source": [
    "# 后台开发一面"
   ]
  },
  {
   "cell_type": "markdown",
   "id": "664f6afe",
   "metadata": {},
   "source": [
    "## 字符串减法"
   ]
  },
  {
   "cell_type": "code",
   "execution_count": 5,
   "id": "7bf11b3b",
   "metadata": {},
   "outputs": [],
   "source": [
    "def subtract_strings(a: str, b: str) -> str:\n",
    "    # 去除前导零，辅助比较函数\n",
    "    def is_smaller(x, y):\n",
    "        x = x.lstrip('0') or '0'\n",
    "        y = y.lstrip('0') or '0'\n",
    "        if len(x) != len(y):\n",
    "            return len(x) < len(y)\n",
    "        return x < y\n",
    "    \n",
    "    negative = False\n",
    "    if is_smaller(a, b):\n",
    "        a, b = b, a\n",
    "        negative = True\n",
    "    \n",
    "    a = list(map(int, a[::-1]))\n",
    "    b = list(map(int, b[::-1]))\n",
    "    \n",
    "    result = []\n",
    "    carry = 0\n",
    "    \n",
    "    for i in range(len(a)):\n",
    "        digit_a = a[i]\n",
    "        digit_b = b[i] if i < len(b) else 0\n",
    "        diff = digit_a - digit_b - carry\n",
    "        if diff < 0:\n",
    "            diff += 10\n",
    "            carry = 1\n",
    "        else:\n",
    "            carry = 0\n",
    "        result.append(str(diff))\n",
    "    \n",
    "    # 去除前导零\n",
    "    while len(result) > 1 and result[-1] == '0':\n",
    "        result.pop()\n",
    "    \n",
    "    res_str = ''.join(result[::-1])\n",
    "    return '-' + res_str if negative else res_str"
   ]
  },
  {
   "cell_type": "markdown",
   "id": "23ca06ef",
   "metadata": {},
   "source": [
    "## 从一组文件中寻找连续的文件放入指定容量的存储区，使得存储区剩余的容量最小"
   ]
  },
  {
   "cell_type": "code",
   "execution_count": 6,
   "id": "7dc5349d",
   "metadata": {},
   "outputs": [
    {
     "name": "stdout",
     "output_type": "stream",
     "text": [
      "选择的文件: [4, 3, 2, 6]\n",
      "剩余容量: 0\n"
     ]
    }
   ],
   "source": [
    "def find_best_files(files, capacity):\n",
    "    n = len(files)\n",
    "    best_remaining = capacity  # 初始剩余容量是最大的容量\n",
    "    best_start = best_end = 0  # 初始最佳起始和结束位置\n",
    "    current_sum = 0  # 当前文件区间的和\n",
    "    start = 0  # 起始指针\n",
    "\t\n",
    "    for end in range(n):\n",
    "        current_sum += files[end]  # 将新的文件加入当前区间\n",
    "\t\t\n",
    "        # 确保当前和不超过存储区的容量\n",
    "        while current_sum > capacity and start <= end:\n",
    "            current_sum -= files[start]  # 移除起始文件\n",
    "            start += 1  # 移动起始指针\n",
    "\t\t\t\n",
    "        # 计算当前剩余空间\n",
    "        remaining_space = capacity - current_sum\n",
    "\t\t\n",
    "        # 如果当前剩余空间比之前的更小，则更新最佳区间\n",
    "        if remaining_space < best_remaining:\n",
    "            best_remaining = remaining_space\n",
    "            best_start = start\n",
    "            best_end = end\n",
    "\t\n",
    "    # 返回最佳区间和剩余容量\n",
    "    return files[best_start:best_end + 1], best_remaining\n",
    "\n",
    "# 测试例子\n",
    "files = [4, 3, 2, 6, 5, 4, 3]  # 文件大小\n",
    "capacity = 15  # 存储区容量\n",
    "\n",
    "chosen_files, remaining_space = find_best_files(files, capacity)\n",
    "print(\"选择的文件:\", chosen_files)\n",
    "print(\"剩余容量:\", remaining_space)"
   ]
  },
  {
   "cell_type": "markdown",
   "id": "c813c929",
   "metadata": {},
   "source": [
    "## [合并区间](https://leetcode.cn/problems/merge-intervals/)"
   ]
  },
  {
   "cell_type": "code",
   "execution_count": null,
   "id": "83f3279a",
   "metadata": {},
   "outputs": [],
   "source": [
    "from typing import List\n",
    "\n",
    "class Solution:\n",
    "\tdef merge(self, intervals: List[List[int]]) -> List[List[int]]:\n",
    "\t\tif not intervals:\n",
    "\t\t\treturn []\n",
    "\t\t# 按照区间起点排序（关键：保持区间起点和终点的对应关系）\n",
    "\t\tintervals.sort(key=lambda x: x[0])\n",
    "\t\tmerged = [intervals[0]]\n",
    "\t\tfor current in intervals[1:]:\n",
    "\t\t\tlast = merged[-1] # 当前区间起点 <= 上一个区间的终点，说明有重叠\n",
    "\t\t\tif current[0] <= last[1]:\n",
    "\t\t\t\t# 合并区间，终点取较大值\n",
    "\t\t\t\tmerged[-1][1] = max(last[1], current[1])\n",
    "\t\t\telse:\n",
    "\t\t\t\tmerged.append(current)\n",
    "\t\treturn merged"
   ]
  },
  {
   "cell_type": "markdown",
   "id": "03870576",
   "metadata": {},
   "source": [
    "# 后台开发二面"
   ]
  },
  {
   "cell_type": "markdown",
   "id": "e1fc5b87",
   "metadata": {},
   "source": [
    "## 有效的括号"
   ]
  },
  {
   "cell_type": "code",
   "execution_count": null,
   "id": "cb211758",
   "metadata": {},
   "outputs": [
    {
     "name": "stdout",
     "output_type": "stream",
     "text": [
      "1430\n"
     ]
    }
   ],
   "source": [
    "n = int(input().strip())\n",
    "\n",
    "def CountBracketExpr(n: int):\n",
    "    if n == 0:\n",
    "        return 1\n",
    "\n",
    "    ans = 0\n",
    "    \n",
    "    def helper(left_remain: int, right_remain: int):\n",
    "        nonlocal ans\n",
    "        if left_remain == 0 and right_remain == 0:\n",
    "            ans += 1\n",
    "            return\n",
    "        \n",
    "        if left_remain > 0:\n",
    "            helper(left_remain - 1, right_remain)\n",
    "        if right_remain > left_remain:\n",
    "            helper(left_remain, right_remain - 1)\n",
    "        \n",
    "    helper(n, n)\n",
    "    return ans\n",
    "\n",
    "print(CountBracketExpr(n))"
   ]
  },
  {
   "cell_type": "markdown",
   "id": "8b79ae2e",
   "metadata": {},
   "source": [
    "```cpp\n",
    "#include <cstdint>\n",
    "\n",
    "uint64_t CountBracketExpr(int n) {\n",
    "    if (n == 0) return 1;\n",
    "\t\n",
    "    uint64_t catalan = 1;\n",
    "    for (int i = 1; i <= n; ++i) {\n",
    "        catalan = catalan * 2 * (2 * i - 1) / (i + 1);\n",
    "    }\n",
    "    return catalan;\n",
    "}\n",
    "```"
   ]
  },
  {
   "cell_type": "markdown",
   "id": "158389cb",
   "metadata": {},
   "source": [
    "## 字符串转 double"
   ]
  },
  {
   "cell_type": "markdown",
   "id": "68db21eb",
   "metadata": {},
   "source": [
    "```cpp\n",
    "#include <iostream>\n",
    "\n",
    "double str_to_double(const char *s) {\n",
    "    double result = 0.0;\n",
    "    double fraction = 0.0;\n",
    "    double divisor = 10.0;\n",
    "    int sign = 1;\n",
    "    \n",
    "    // 处理符号\n",
    "    if (*s == '-') {\n",
    "        sign = -1;\n",
    "        s++;\n",
    "    } else if (*s == '+') {\n",
    "        s++;\n",
    "    }\n",
    "\t\n",
    "    // 处理整数部分\n",
    "    while (*s && *s != '.') {\n",
    "        if (*s >= '0' && *s <= '9') {\n",
    "            result = result * 10 + (*s - '0');\n",
    "        }\n",
    "        s++;\n",
    "    }\n",
    "\t\n",
    "    // 处理小数点后的小数部分\n",
    "    if (*s == '.') {\n",
    "        s++; // 跳过小数点\n",
    "        while (*s && (*s >= '0' && *s <= '9')) {\n",
    "            fraction += (*s - '0') / divisor;\n",
    "            divisor *= 10.0;\n",
    "            s++;\n",
    "        }\n",
    "    }\n",
    "\t\n",
    "    return sign * (result + fraction);\n",
    "}\n",
    "\n",
    "int main() {\n",
    "    const char *input = \"1.234\";\n",
    "    double output = str_to_double(input);\n",
    "    std::cout.precision(10);\n",
    "    std::cout << output << std::endl; // 输出 1.234\n",
    "    return 0;\n",
    "}\n",
    "```"
   ]
  },
  {
   "cell_type": "markdown",
   "id": "534add52",
   "metadata": {},
   "source": [
    "## 数字翻转"
   ]
  },
  {
   "cell_type": "markdown",
   "id": "1ef55154",
   "metadata": {},
   "source": [
    "```cpp\n",
    "#include <iostream>\n",
    "#include <chrono>\n",
    "\n",
    "uint64_t bitswap64(uint64_t v) {\n",
    "\tuint64_t ans = 0;\n",
    "\tfor (int i = 0; i < 64; i++) {\n",
    "\t\tans = (ans << 1) | (v & 1);\n",
    "\t\tv = v >> 1;\n",
    "\t}\n",
    "\treturn ans;\n",
    "}\n",
    "\n",
    "int main() {\n",
    "\tuint64_t a;\n",
    "\tstd::cin >> a;\n",
    "\tstd::cout << bitswap64(a) << std::endl;\n",
    "\t\n",
    "\tauto start = std::chrono::high_resolution_clock::now();\n",
    "\tfor (uint64_t i = 0; i < 10000000; i++) {\n",
    "\t\tbitswap64(a);\n",
    "\t}\n",
    "\tauto end = std::chrono::high_resolution_clock::now();\n",
    "\tstd::chrono::duration<double, std::milli> duration = end - start;\n",
    "\tstd::cout << \"Duration\" << duration.count() << \"ms\";\n",
    "\treturn 0;\n",
    "}\n",
    "```"
   ]
  }
 ],
 "metadata": {
  "kernelspec": {
   "display_name": "base",
   "language": "python",
   "name": "python3"
  },
  "language_info": {
   "codemirror_mode": {
    "name": "ipython",
    "version": 3
   },
   "file_extension": ".py",
   "mimetype": "text/x-python",
   "name": "python",
   "nbconvert_exporter": "python",
   "pygments_lexer": "ipython3",
   "version": "3.12.9"
  }
 },
 "nbformat": 4,
 "nbformat_minor": 5
}
