{
 "cells": [
  {
   "cell_type": "markdown",
   "id": "7e8c1ed8",
   "metadata": {},
   "source": [
    "# [55. 跳跃游戏](https://leetcode.cn/problems/jump-game/description/) 中等\n",
    "\n",
    "给你一个非负整数数组 `nums`，你最初位于数组的**第一个下标**。数组中的每个元素代表你在该位置可以跳跃的最大长度。\n",
    "\n",
    "判断你是否能够到达最后一个下标，如果可以，返回 `true`；否则，返回 `false`。\n",
    "\n",
    "**示例 1**\n",
    "\n",
    "> 输入：nums = [2,3,1,1,4]\n",
    ">\n",
    "> 输出：true\n",
    ">\n",
    "> 解释：可以先跳 1 步，从下标 0 到达下标 1，然后再从下标 1 跳 3 步到达最后一个下标。\n",
    "\n",
    "**示例 2**\n",
    "\n",
    "> 输入：nums = [3,2,1,0,4]\n",
    ">\n",
    "> 输出：false\n",
    ">\n",
    "> 解释：无论怎样，总会到达下标为 3 的位置。但该下标的最大跳跃长度是 0，所以永远不可能到达最后一个下标。\n",
    "\n",
    "**提示**\n",
    "\n",
    "- $1 <= nums.length <= 10^4$\n",
    "- $0 <= nums[i] <= 10^5$"
   ]
  },
  {
   "cell_type": "code",
   "execution_count": null,
   "id": "4c8163f3",
   "metadata": {
    "_cell_guid": "b1076dfc-b9ad-4769-8c92-a6c4dae69d19",
    "_uuid": "8f2839f25d086af736a60e9eeb907d3b93b6e0e5",
    "execution": {
     "iopub.execute_input": "2024-10-12T02:08:08.906189Z",
     "iopub.status.busy": "2024-10-12T02:08:08.905625Z",
     "iopub.status.idle": "2024-10-12T02:08:09.891953Z",
     "shell.execute_reply": "2024-10-12T02:08:09.890783Z"
    },
    "papermill": {
     "duration": 0.994893,
     "end_time": "2024-10-12T02:08:09.895183",
     "exception": false,
     "start_time": "2024-10-12T02:08:08.900290",
     "status": "completed"
    },
    "tags": []
   },
   "outputs": [],
   "source": [
    "from typing import List\n",
    "\n",
    "class Solution:\n",
    "    def canJump(self, nums: List[int]) -> bool:\n",
    "        farthest = 0\n",
    "        for i in range(len(nums)):\n",
    "            if i > farthest:\n",
    "                return False\n",
    "            farthest = max(farthest, i + nums[i])\n",
    "        return True"
   ]
  },
  {
   "cell_type": "markdown",
   "id": "a2f5acc1",
   "metadata": {
    "papermill": {
     "duration": 0.002391,
     "end_time": "2024-10-12T02:08:09.900727",
     "exception": false,
     "start_time": "2024-10-12T02:08:09.898336",
     "status": "completed"
    },
    "tags": []
   },
   "source": [
    "# 3158. 求出出现两次数字的 XOR 值\n",
    "\n",
    "给你一个数组 `nums`，数组中的数字要么出现一次，要么出现两次。  \n",
    "请你返回数组中所有出现两次数字的按位 XOR 值，如果没有数字出现过两次，返回 0。\n",
    "\n",
    "### 示例 1：\n",
    "**输入**：`nums = [1,2,1,3]`  \n",
    "**输出**：`1`  \n",
    "**解释**：  \n",
    "`nums` 中唯一出现过两次的数字是 `1`。\n",
    "\n",
    "### 示例 2：\n",
    "**输入**：`nums = [1,2,3]`  \n",
    "**输出**：`0`  \n",
    "**解释**：  \n",
    "`nums` 中没有数字出现两次。\n",
    "\n",
    "### 示例 3：\n",
    "**输入**：`nums = [1,2,2,1]`  \n",
    "**输出**：`3`  \n",
    "**解释**：  \n",
    "数字 `1` 和 `2` 出现过两次。`1 XOR 2 == 3`。\n",
    "\n",
    "### 提示：\n",
    "- `1 <= nums.length <= 50`\n",
    "- `1 <= nums[i] <= 50`\n",
    "- `nms` 中每个数字要么出现过一次，要么出现过两次。\n",
    "\n",
    "1 <= nums[i] <= 50\n",
    "nums 中每个数字要么出现过一次，要么出现过两次。"
   ]
  },
  {
   "cell_type": "code",
   "execution_count": 2,
   "id": "b8d004f6",
   "metadata": {
    "execution": {
     "iopub.execute_input": "2024-10-12T02:08:09.908341Z",
     "iopub.status.busy": "2024-10-12T02:08:09.907060Z",
     "iopub.status.idle": "2024-10-12T02:08:09.915403Z",
     "shell.execute_reply": "2024-10-12T02:08:09.914225Z"
    },
    "papermill": {
     "duration": 0.015004,
     "end_time": "2024-10-12T02:08:09.918087",
     "exception": false,
     "start_time": "2024-10-12T02:08:09.903083",
     "status": "completed"
    },
    "tags": []
   },
   "outputs": [],
   "source": [
    "from typing import List\n",
    "\n",
    "class Solution:\n",
    "    def duplicateNumbersXOR(self, nums: List[int]) -> int:\n",
    "        dic = dict()\n",
    "        for num in nums:\n",
    "            if num in dic:\n",
    "                dic[num] += 1\n",
    "            else:\n",
    "                dic[num] = 1\n",
    "        res = 0\n",
    "        for key, value in dic.items():\n",
    "            if value == 2:\n",
    "                res ^= key\n",
    "        return res"
   ]
  },
  {
   "cell_type": "code",
   "execution_count": 3,
   "id": "fc4e2898",
   "metadata": {
    "execution": {
     "iopub.execute_input": "2024-10-12T02:08:09.925030Z",
     "iopub.status.busy": "2024-10-12T02:08:09.924555Z",
     "iopub.status.idle": "2024-10-12T02:08:09.933761Z",
     "shell.execute_reply": "2024-10-12T02:08:09.932604Z"
    },
    "papermill": {
     "duration": 0.01534,
     "end_time": "2024-10-12T02:08:09.936231",
     "exception": false,
     "start_time": "2024-10-12T02:08:09.920891",
     "status": "completed"
    },
    "tags": []
   },
   "outputs": [
    {
     "data": {
      "text/plain": [
       "3"
      ]
     },
     "execution_count": 3,
     "metadata": {},
     "output_type": "execute_result"
    }
   ],
   "source": [
    "temp = Solution()\n",
    "temp.duplicateNumbersXOR([1,2,2,1])"
   ]
  }
 ],
 "metadata": {
  "kaggle": {
   "accelerator": "none",
   "dataSources": [],
   "dockerImageVersionId": 30786,
   "isGpuEnabled": false,
   "isInternetEnabled": true,
   "language": "python",
   "sourceType": "notebook"
  },
  "kernelspec": {
   "display_name": "Python 3",
   "language": "python",
   "name": "python3"
  },
  "language_info": {
   "codemirror_mode": {
    "name": "ipython",
    "version": 3
   },
   "file_extension": ".py",
   "mimetype": "text/x-python",
   "name": "python",
   "nbconvert_exporter": "python",
   "pygments_lexer": "ipython3",
   "version": "3.10.14"
  },
  "papermill": {
   "default_parameters": {},
   "duration": 4.928259,
   "end_time": "2024-10-12T02:08:10.561428",
   "environment_variables": {},
   "exception": null,
   "input_path": "__notebook__.ipynb",
   "output_path": "__notebook__.ipynb",
   "parameters": {},
   "start_time": "2024-10-12T02:08:05.633169",
   "version": "2.6.0"
  }
 },
 "nbformat": 4,
 "nbformat_minor": 5
}
