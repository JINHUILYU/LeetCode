{
 "cells": [
  {
   "cell_type": "code",
   "execution_count": 1,
   "id": "4c8163f3",
   "metadata": {
    "_cell_guid": "b1076dfc-b9ad-4769-8c92-a6c4dae69d19",
    "_uuid": "8f2839f25d086af736a60e9eeb907d3b93b6e0e5",
    "execution": {
     "iopub.execute_input": "2024-10-12T02:08:08.906189Z",
     "iopub.status.busy": "2024-10-12T02:08:08.905625Z",
     "iopub.status.idle": "2024-10-12T02:08:09.891953Z",
     "shell.execute_reply": "2024-10-12T02:08:09.890783Z"
    },
    "papermill": {
     "duration": 0.994893,
     "end_time": "2024-10-12T02:08:09.895183",
     "exception": false,
     "start_time": "2024-10-12T02:08:08.900290",
     "status": "completed"
    },
    "tags": []
   },
   "outputs": [],
   "source": [
    "# This Python 3 environment comes with many helpful analytics libraries installed\n",
    "# It is defined by the kaggle/python Docker image: https://github.com/kaggle/docker-python\n",
    "# For example, here's several helpful packages to load\n",
    "\n",
    "import numpy as np # linear algebra\n",
    "import pandas as pd # data processing, CSV file I/O (e.g. pd.read_csv)\n",
    "\n",
    "# Input data files are available in the read-only \"../input/\" directory\n",
    "# For example, running this (by clicking run or pressing Shift+Enter) will list all files under the input directory\n",
    "\n",
    "import os\n",
    "for dirname, _, filenames in os.walk('/kaggle/input'):\n",
    "    for filename in filenames:\n",
    "        print(os.path.join(dirname, filename))\n",
    "\n",
    "# You can write up to 20GB to the current directory (/kaggle/working/) that gets preserved as output when you create a version using \"Save & Run All\" \n",
    "# You can also write temporary files to /kaggle/temp/, but they won't be saved outside of the current session"
   ]
  },
  {
   "cell_type": "markdown",
   "id": "a2f5acc1",
   "metadata": {
    "papermill": {
     "duration": 0.002391,
     "end_time": "2024-10-12T02:08:09.900727",
     "exception": false,
     "start_time": "2024-10-12T02:08:09.898336",
     "status": "completed"
    },
    "tags": []
   },
   "source": [
    "# 3158. 求出出现两次数字的 XOR 值\r\n",
    "\r\n",
    "给你一个数组 `nums`，数组中的数字要么出现一次，要么出现两次。  \r\n",
    "请你返回数组中所有出现两次数字的按位 XOR 值，如果没有数字出现过两次，返回 0。\r\n",
    "\r\n",
    "### 示例 1：\r\n",
    "**输入**：`nums = [1,2,1,3]`  \r\n",
    "**输出**：`1`  \r\n",
    "**解释**：  \r\n",
    "`nums` 中唯一出现过两次的数字是 `1`。\r\n",
    "\r\n",
    "### 示例 2：\r\n",
    "**输入**：`nums = [1,2,3]`  \r\n",
    "**输出**：`0`  \r\n",
    "**解释**：  \r\n",
    "`nums` 中没有数字出现两次。\r\n",
    "\r\n",
    "### 示例 3：\r\n",
    "**输入**：`nums = [1,2,2,1]`  \r\n",
    "**输出**：`3`  \r\n",
    "**解释**：  \r\n",
    "数字 `1` 和 `2` 出现过两次。`1 XOR 2 == 3`。\r\n",
    "\r\n",
    "### 提示：\r\n",
    "- `1 <= nums.length <= 50`\r\n",
    "- `1 <= nums[i] <= 50`\r\n",
    "- `nms` 中每个数字要么出现过一次，要么出现过两次。\r\n",
    "\n",
    "1 <= nums[i] <= 50\r\n",
    "nums 中每个数字要么出现过一次，要么出现过两次。"
   ]
  },
  {
   "cell_type": "code",
   "execution_count": 2,
   "id": "b8d004f6",
   "metadata": {
    "execution": {
     "iopub.execute_input": "2024-10-12T02:08:09.908341Z",
     "iopub.status.busy": "2024-10-12T02:08:09.907060Z",
     "iopub.status.idle": "2024-10-12T02:08:09.915403Z",
     "shell.execute_reply": "2024-10-12T02:08:09.914225Z"
    },
    "papermill": {
     "duration": 0.015004,
     "end_time": "2024-10-12T02:08:09.918087",
     "exception": false,
     "start_time": "2024-10-12T02:08:09.903083",
     "status": "completed"
    },
    "tags": []
   },
   "outputs": [],
   "source": [
    "from typing import List\n",
    "\n",
    "class Solution:\n",
    "    def duplicateNumbersXOR(self, nums: List[int]) -> int:\n",
    "        dic = dict()\n",
    "        for num in nums:\n",
    "            if num in dic:\n",
    "                dic[num] += 1\n",
    "            else:\n",
    "                dic[num] = 1\n",
    "        res = 0\n",
    "        for key, value in dic.items():\n",
    "            if value == 2:\n",
    "                res ^= key\n",
    "        return res"
   ]
  },
  {
   "cell_type": "code",
   "execution_count": 3,
   "id": "fc4e2898",
   "metadata": {
    "execution": {
     "iopub.execute_input": "2024-10-12T02:08:09.925030Z",
     "iopub.status.busy": "2024-10-12T02:08:09.924555Z",
     "iopub.status.idle": "2024-10-12T02:08:09.933761Z",
     "shell.execute_reply": "2024-10-12T02:08:09.932604Z"
    },
    "papermill": {
     "duration": 0.01534,
     "end_time": "2024-10-12T02:08:09.936231",
     "exception": false,
     "start_time": "2024-10-12T02:08:09.920891",
     "status": "completed"
    },
    "tags": []
   },
   "outputs": [
    {
     "data": {
      "text/plain": [
       "3"
      ]
     },
     "execution_count": 3,
     "metadata": {},
     "output_type": "execute_result"
    }
   ],
   "source": [
    "temp = Solution()\n",
    "temp.duplicateNumbersXOR([1,2,2,1])"
   ]
  }
 ],
 "metadata": {
  "kaggle": {
   "accelerator": "none",
   "dataSources": [],
   "dockerImageVersionId": 30786,
   "isGpuEnabled": false,
   "isInternetEnabled": true,
   "language": "python",
   "sourceType": "notebook"
  },
  "kernelspec": {
   "display_name": "Python 3",
   "language": "python",
   "name": "python3"
  },
  "language_info": {
   "codemirror_mode": {
    "name": "ipython",
    "version": 3
   },
   "file_extension": ".py",
   "mimetype": "text/x-python",
   "name": "python",
   "nbconvert_exporter": "python",
   "pygments_lexer": "ipython3",
   "version": "3.10.14"
  },
  "papermill": {
   "default_parameters": {},
   "duration": 4.928259,
   "end_time": "2024-10-12T02:08:10.561428",
   "environment_variables": {},
   "exception": null,
   "input_path": "__notebook__.ipynb",
   "output_path": "__notebook__.ipynb",
   "parameters": {},
   "start_time": "2024-10-12T02:08:05.633169",
   "version": "2.6.0"
  }
 },
 "nbformat": 4,
 "nbformat_minor": 5
}
