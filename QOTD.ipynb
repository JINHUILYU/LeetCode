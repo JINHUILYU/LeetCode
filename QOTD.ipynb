{
 "cells": [
  {
   "cell_type": "markdown",
   "id": "9961cfe315559d63",
   "metadata": {
    "collapsed": false
   },
   "source": [
    "# LeetCode每日一题"
   ]
  },
  {
   "cell_type": "markdown",
   "id": "a78893f5",
   "metadata": {},
   "source": [
    "## [有序三元组中的最大值 I](https://leetcode.cn/problems/maximum-value-of-an-ordered-triplet-i/description/?envType=daily-question&envId=2025-04-02) 简单\n",
    "\n",
    "给你一个下标从 0 开始的整数数组 nums。\n",
    "\n",
    "请你从所有满足 i < j < k 的下标三元组 (i, j, k) 中，找出并返回下标三元组的最大值。如果所有满足条件的三元组的值都是负数，则返回 0。\n",
    "\n",
    "下标三元组 (i, j, k) 的值等于 (nums[i] - nums[j]) * nums[k]。\n",
    "\n",
    "**示例 1：**\n",
    "\n",
    "> 输入：nums = [12, 6, 1, 2, 7]\n",
    "> \n",
    "> 输出：77\n",
    "> \n",
    "> 解释：下标三元组 (0, 2, 4) 的值是 (nums[0] - nums[2]) * nums[4] = 77。可以证明不存在值大于 77 的有序下标三元组。\n",
    "\n",
    "**示例 2：**\n",
    "\n",
    "> 输入：nums = [1, 10, 3, 4, 19]\n",
    "> \n",
    "> 输出：133\n",
    "> \n",
    "> 解释：下标三元组 (1, 2, 4) 的值是 (nums[1] - nums[2]) * nums[4] = 133。可以证明不存在值大于 133 的有序下标三元组。\n",
    "\n",
    "**示例 3：**\n",
    "\n",
    "> 输入：nums = [1, 2, 3]\n",
    "> \n",
    "> 输出：0\n",
    "> \n",
    "> 解释：唯一的下标三元组 (0, 1, 2) 的值是一个负数，(nums[0] - nums[1]) * nums[2] = -3。因此，答案是 0。\n",
    "\n",
    "**提示：**\n",
    "\n",
    "- $3 <= nums.length <= 100$\n",
    "- $1 <= nums[i] <= 10^6$"
   ]
  },
  {
   "cell_type": "code",
   "execution_count": null,
   "id": "f404eb5e",
   "metadata": {},
   "outputs": [],
   "source": [
    "from typing import List\n",
    "\n",
    "class Solution:\n",
    "    def maximumTripletValue(self, nums: List[int]) -> int:\n",
    "        ans = 0\n",
    "        n = len(nums)\n",
    "        for i in range(n - 2):\n",
    "            for j in range(i + 1, n - 1):\n",
    "                for k in range(j + 1, n):\n",
    "                    ans = max(ans, (nums[i] - nums[j]) * nums[k])\n",
    "        return ans"
   ]
  },
  {
   "cell_type": "code",
   "execution_count": null,
   "id": "f4349c1a",
   "metadata": {},
   "outputs": [],
   "source": [
    "class Solution:\n",
    "    def maximumTripletValue(self, nums: List[int]) -> int:\n",
    "        ans = 0\n",
    "        n = len(nums)\n",
    "        if n < 3:\n",
    "            return 0\n",
    "\n",
    "        # 预计算 max_left[i]: 在 i 之前[:i + 1]的最大 nums[i]\n",
    "        max_left = [0] * n\n",
    "        max_left[0] = nums[0]\n",
    "        for i in range(1, n):\n",
    "            max_left[i] = max(max_left[i - 1], nums[i])\n",
    "\n",
    "        # 预计算 max_right[i]: 在 i 之后[i:]的最大 nums[i]\n",
    "        max_right = [0] * n\n",
    "        max_right[n - 1] = nums[n - 1]\n",
    "        for i in range(n - 2, -1, -1):\n",
    "            max_right[i] = max(max_right[i + 1], nums[i])\n",
    "\n",
    "        for j in range(1, n - 1):\n",
    "            max_i = max_left[j - 1]\n",
    "            max_k = max_right[j + 1]\n",
    "            ans = max(ans, (max_i - nums[j]) * max_k)\n",
    "\n",
    "        return ans"
   ]
  },
  {
   "cell_type": "markdown",
   "id": "516a0aa4",
   "metadata": {},
   "source": [
    "## [解决智力问题](https://leetcode.cn/problems/solving-questions-with-brainpower/?envType=daily-question&envId=2025-04-01) 中等\n",
    "\n",
    "给你一个二维整数数组 questions，其中 $questions[i] = [points_i, brainpower_i]$。\n",
    "\n",
    "你需要按顺序（从问题 0 开始依次解决）针对每个问题选择解决或跳过。解决问题 i 将获得 $points_i$ 分，但接下来的 $brainpower_i$ 个问题无法解决。跳过问题 i 则可以继续处理下一个问题。\n",
    "\n",
    "返回这场考试中你能获得的最高分数。\n",
    "\n",
    "**示例 1：**\n",
    "\n",
    "> 输入：questions = [[3,2], [4,3], [4,4], [2,5]]\n",
    "> \n",
    "> 输出：5\n",
    "> \n",
    "> 解释：解决问题 0 和 3 得到最高分。\n",
    "- 解决问题 0：获得 3 分，但接下来 2 个问题无法解决。\n",
    "- 解决问题 3：获得 2 分。\n",
    "总得分为 3 + 2 = 5。\n",
    "\n",
    "**示例 2：**\n",
    "\n",
    "> 输入：questions = [[1,1], [2,2], [3,3], [4,4], [5,5]]\n",
    "> \n",
    "> 输出：7\n",
    "> \n",
    "> 解释：解决问题 1 和 4 得到最高分。\n",
    "- 跳过问题 0。\n",
    "- 解决问题 1：获得 2 分，但接下来 2 个问题无法解决。\n",
    "- 解决问题 4：获得 5 分。\n",
    "总得分为 2 + 5 = 7。\n",
    "\n",
    "**提示：**\n",
    "\n",
    "- $1 <= questions.length <= 10^5$\n",
    "- $questions[i].length == 2$\n",
    "- $1 <= points_i, brainpower_i <= 10^5$"
   ]
  },
  {
   "cell_type": "code",
   "execution_count": null,
   "id": "bd622779",
   "metadata": {},
   "outputs": [],
   "source": [
    "from typing import List\n",
    "\n",
    "class Solution:\n",
    "    def mostPoints(self, questions: List[List[int]]) -> int:\n",
    "        # dp[i] = max(dp[i + questions[i][1] + 1] + questions[i][0], dp[i + 1])\n",
    "        n = len(questions)\n",
    "        dp = [0] * (n + 1)\n",
    "        for i in range(n - 1, -1, -1):\n",
    "            points, brainpower = questions[i]\n",
    "            next_index = i + brainpower + 1\n",
    "            solve = points + (dp[next_index] if next_index <= n else 0)\n",
    "            skip = dp[i + 1]\n",
    "            dp[i] = max(solve, skip)\n",
    "        return dp[0]"
   ]
  },
  {
   "cell_type": "markdown",
   "id": "89c38be5",
   "metadata": {},
   "source": [
    "## [向字符串添加空格](https://leetcode.cn/problems/adding-spaces-to-a-string/description/?envType=daily-question&envId=2025-03-30) 中等\n",
    "\n",
    "给你一个下标从 0 开始的字符串 s ，以及一个下标从 0 开始的整数数组 spaces 。\n",
    "\n",
    "数组 spaces 描述原字符串中需要添加空格的下标。每个空格都应该插入到给定索引处的字符值 之前 。\n",
    "\n",
    "- 例如，s = \"EnjoyYourCoffee\" 且 spaces = [5, 9] ，那么我们需要在 'Y' 和 'C' 之前添加空格，这两个字符分别位于下标 5 和下标 9 。因此，最终得到 \"Enjoy Your Coffee\" 。\n",
    "\n",
    "请你添加空格，并返回修改后的字符串。\n",
    "\n",
    "**示例 1：**\n",
    "\n",
    "> 输入：s = \"LeetcodeHelpsMeLearn\", spaces = [8, 13, 15]\n",
    "> \n",
    "> 输出：\"Leetcode Helps Me Learn\"\n",
    "> \n",
    "> 解释：下标 8、13 和 15 对应 \"LeetcodeHelpsMeLearn\" 中加粗斜体字符。接着在这些字符前添加空格。\n",
    "\n",
    "**示例 2：**\n",
    "\n",
    "> 输入：s = \"icodeinpython\", spaces = [1, 5, 7, 9]\n",
    "> \n",
    "> 输出：\"i code in py thon\"\n",
    "> \n",
    "> 解释：下标 1、5、7 和 9 对应 \"icodeinpython\" 中加粗斜体字符。接着在这些字符前添加空格。\n",
    "\n",
    "**示例 3：**\n",
    "\n",
    "> 输入：s = \"spacing\", spaces = [0, 1, 2, 3, 4, 5]\n",
    "> \n",
    "> 输出：\" s p a c i n g\"\n",
    "> \n",
    "> 解释：字符串的第一个字符前可以添加空格。\n",
    "\n",
    "**提示：**\n",
    "\n",
    "- $1 <= s.length <= 3 \\times 10^5$\n",
    "- s 仅由大小写英文字母组成\n",
    "- $1 <= spaces.length <= 3 \\times 10^5$\n",
    "- $0 <= spaces[i] <= s.length - 1$\n",
    "- spaces 中的所有值严格递增"
   ]
  },
  {
   "cell_type": "code",
   "execution_count": null,
   "id": "d352ff7d",
   "metadata": {},
   "outputs": [],
   "source": [
    "from typing import List\n",
    "\n",
    "class Solution:\n",
    "    def addSpaces(self, s: str, spaces: List[int]) -> str:\n",
    "        chars = []\n",
    "        for ch in s:\n",
    "            chars.append(ch)\n",
    "\n",
    "        for space in spaces:\n",
    "            chars[space] = ' ' + chars[space]\n",
    "\n",
    "        return ''.join(chars)"
   ]
  },
  {
   "cell_type": "markdown",
   "id": "c2b6f5fc",
   "metadata": {},
   "source": [
    "## [2716. 最小化字符串长度](https://leetcode.cn/problems/minimize-string-length/description/?envType=daily-question&envId=2025-03-28) 简单\n",
    "\n",
    "给你一个下标从 0 开始的字符串 s ，重复执行下述操作任意次：\n",
    "\n",
    "- 在字符串中选出一个下标 i ，并使 c 为字符串下标 i 处的字符。并在 i 左侧（如果有）和右侧（如果有）各删除一个距离 i 最近的字符 c 。\n",
    "\n",
    "请你通过执行上述操作任意次，使 s 的长度最小化。\n",
    "\n",
    "返回一个表示最小化字符串的长度的整数。\n",
    "\n",
    "**示例 1：**\n",
    "\n",
    "> 输入：s = \"aaabc\"\n",
    "> \n",
    "> 输出：3\n",
    "> \n",
    "> 解释：在这个示例中，s 等于 \"aaabc\"。我们可以选择位于下标 1 处的字符 'a' 开始。接着删除下标 1 左侧最近的那个 'a'（位于下标 0）以及下标 1 右侧最近的那个 'a'（位于下标 2）。执行操作后，字符串变为 \"abc\"。继续对字符串执行任何操作都不会改变其长度。因此，最小化字符串的长度是 3。\n",
    "\n",
    "**示例 2：**\n",
    "\n",
    "> 输入：s = \"cbbd\"\n",
    "> \n",
    "> 输出：3\n",
    "> \n",
    "> 解释：我们可以选择位于下标 1 处的字符 'b' 开始。下标 1 左侧不存在字符 'b'，但右侧存在一个字符 'b'（位于下标 2），所以会删除位于下标 2 的字符 'b'。执行操作后，字符串变为 \"cbd\"。继续对字符串执行任何操作都不会改变其长度。因此，最小化字符串的长度是 3。\n",
    "\n",
    "**示例 3：**\n",
    "\n",
    "> 输入：s = \"ddaadaa\"\n",
    "> \n",
    "> 输出：2\n",
    "> \n",
    "> 解释：我们可以选择位于下标 1 处的字符 'd' 开始。接着删除下标左侧最近的那个 'd'（位于下标 0）以及下标 1 右侧最近的那个 'd'（位于下标 2）。执行操作后，字符串变为 \"daaa\"。继续对新字符串执行操作，可以选择位于下标 2 的字符 'a'。接着删除下标 2 左侧最近的那个 'a'（位于下标 1）以及下标 2 右侧最近的那个 'a'（位于下标 3）。执行操作后，字符串变为 \"da\"。继续对字符串执行任何操作都不会改变其长度。因此，最小化字符串的长度是 2。\n",
    "\n",
    "**提示：**\n",
    "\n",
    "- $1 <= s.length <= 100$\n",
    "- $s$ 仅由小写英文字母组成"
   ]
  },
  {
   "cell_type": "code",
   "execution_count": 6,
   "id": "f50faf3c",
   "metadata": {},
   "outputs": [],
   "source": [
    "class Solution:\n",
    "    def minimizedStringLength(self, s: str) -> int:\n",
    "        return len(set(s))"
   ]
  },
  {
   "cell_type": "code",
   "execution_count": 4,
   "id": "22466610",
   "metadata": {},
   "outputs": [],
   "source": [
    "class Solution:\n",
    "    def minimizedStringLength(self, s: str) -> int:\n",
    "        n = len(s)\n",
    "        chars = list(s)\n",
    "        for i in range(n):\n",
    "            if i == 0:\n",
    "                # 将右侧最近的字符 s[i] 删除\n",
    "                for j in range(i + 1, n):\n",
    "                    if chars[i] != '-' and chars[j] == chars[i]:\n",
    "                        chars[j] = '-' # 标记为删除\n",
    "                        break\n",
    "            elif i == n - 1:\n",
    "                # 将左侧最近的字符 s[i] 删除\n",
    "                for j in range(i - 1, -1, -1):\n",
    "                    if chars[i] != '-' and chars[j] == chars[i]:\n",
    "                        chars[j] = '-'\n",
    "                        break\n",
    "            else:\n",
    "                # 将左侧最近的字符 s[i] 删除\n",
    "                for j in range(i - 1, -1, -1):\n",
    "                    if chars[i] != '-' and chars[j] == chars[i]:\n",
    "                        chars[j] = '-'\n",
    "                        break\n",
    "                # 将右侧最近的字符 s[i] 删除\n",
    "                for j in range(i + 1, n):\n",
    "                    if chars[i] != '-' and chars[j] == chars[i]:\n",
    "                        chars[j] = '-' # 标记为删除\n",
    "                        break\n",
    "        count = 0\n",
    "        for ch in chars:\n",
    "            if ch != '-':\n",
    "                count += 1\n",
    "        return count"
   ]
  },
  {
   "cell_type": "code",
   "execution_count": 7,
   "id": "4763ead6",
   "metadata": {},
   "outputs": [
    {
     "name": "stdout",
     "output_type": "stream",
     "text": [
      "3\n"
     ]
    }
   ],
   "source": [
    "print(Solution().minimizedStringLength(\"aaabc\")) # 3"
   ]
  },
  {
   "cell_type": "markdown",
   "id": "499b697d",
   "metadata": {},
   "source": [
    "## [2712. 使所有字符相等的最小成本](https://leetcode.cn/problems/minimum-cost-to-make-all-characters-equal/description/?envType=daily-question&envId=2025-03-27) 中等 :star:\n",
    "\n",
    "给你一个下标从 0 开始、长度为 n 的二进制字符串 s，你可以对其执行两种操作：\n",
    "\n",
    "- 选中一个下标 i 并且反转从下标 0 到下标 i（包括下标 0 和下标 i）的所有字符，成本为 i + 1。\n",
    "- 选中一个下标 i 并且反转从下标 i 到下标 n - 1（包括下标 i 和下标 n - 1）的所有字符，成本为 n - i。\n",
    "\n",
    "返回使字符串内所有字符相等需要的最小成本。\n",
    "\n",
    "**反转**字符意味着：如果原来的值是 '0'，则反转后变为 '1'，反之亦然。\n",
    "\n",
    "**示例 1：**\n",
    "\n",
    "> 输入：s = \"0011\"\n",
    "> \n",
    "> 输出：2\n",
    "> \n",
    "> 解释：执行第二种操作，选中下标 i = 2，可以得到 s = \"0000\"，成本为 2。可以证明 2 是使所有字符相等的最小成本。\n",
    "\n",
    "**示例 2：**\n",
    "\n",
    "> 输入：s = \"010101\"\n",
    "> \n",
    "> 输出：9\n",
    "> \n",
    "> 解释：执行第一种操作，选中下标 i = 2，可以得到 s = \"101101\"，成本为 3。\n",
    "> \n",
    "> 执行第一种操作，选中下标 i = 1，可以得到 s = \"011101\"，成本为 2。\n",
    "> \n",
    "> 执行第一种操作，选中下标 i = 0，可以得到 s = \"111101\"，成本为 1。\n",
    "> \n",
    "> 执行第二种操作，选中下标 i = 4，可以得到 s = \"111110\"，成本为 2。\n",
    "> \n",
    "> 执行第二种操作，选中下标 i = 5，可以得到 s = \"111111\"，成本为 1。\n",
    "> \n",
    "> 使所有字符相等的总成本等于 9。可以证明 9 是使所有字符相等的最小成本。\n",
    "\n",
    "**提示：**\n",
    "\n",
    "- $1 <= s.length == n <= 10^5$\n",
    "- $s[i]$ 为 '0' 或 '1'"
   ]
  },
  {
   "cell_type": "markdown",
   "id": "876e200b",
   "metadata": {},
   "source": [
    "可以用一个非常简洁的思路来解决这个问题：当我们从左到右扫字符串时，每遇到相邻字符不相等的位置 i (即 s[i] != s[i+1])，就说明这里存在“边界”需要我们花费一次翻转操作去把这个边界消除（把这两段统一为相同字符）。对于这个边界，我们可以有两种做法：\n",
    "\n",
    "1. 翻转从下标 0 到 i 的前缀，成本为 (i + 1)  \n",
    "2. 翻转从下标 i+1 到 n-1 的后缀，成本为 (n - (i+1)) = (n - i - 1)\n",
    "\n",
    "我们只需要选择较小的那个成本即可。因此，每当 s[i] != s[i+1]，就把答案加上 `min(i+1, n - i - 1)`。\n",
    "\n",
    "**思路解析：**\n",
    "\n",
    "- 一次操作可以把「边界」两侧翻转成同一种字符；  \n",
    "- 任何一次翻转只会影响到当前及以后的边界，不会反复干扰已处理过的边界；  \n",
    "- 因此只要把所有不相等的邻接处（边界）都“修复”一次，就能让整串变为同一个字符；  \n",
    "- 对每个边界，只需选“翻转前缀”或者“翻转后缀”中成本更低的一种，累加到最终答案即可。"
   ]
  },
  {
   "cell_type": "code",
   "execution_count": null,
   "id": "6d0bdd4a",
   "metadata": {},
   "outputs": [],
   "source": [
    "class Solution:\n",
    "    def minimumCost(self, s: str) -> int:\n",
    "        n = len(s)\n",
    "        cost = 0\n",
    "        for i in range(n - 1):\n",
    "            if s[i] != s[i + 1]:\n",
    "                cost += min(i + 1, n - i - 1)\n",
    "        return cost"
   ]
  },
  {
   "cell_type": "markdown",
   "id": "e3309b7b",
   "metadata": {},
   "source": [
    "## [对角线上不同值的数量差](https://leetcode.cn/problems/difference-of-number-of-distinct-values-on-diagonals/description/?envType=daily-question&envId=2025-03-25) 中等\n",
    "\n",
    "给你一个下标从 0 开始、大小为 m x n 的二维矩阵 grid，请你求解大小同样为 m x n 的答案矩阵 answer。\n",
    "\n",
    "矩阵 answer 中每个单元格 (r, c) 的值可以按下述方式进行计算：\n",
    "\n",
    "- 令 topLeft[r][c] 为矩阵 grid 中单元格 (r, c) 左上角对角线上不同值的数量。\n",
    "- 令 bottomRight[r][c] 为矩阵 grid 中单元格 (r, c) 右下角对角线上不同值的数量。\n",
    "- 然后 answer[r][c] = |topLeft[r][c] - bottomRight[r][c]|。\n",
    "\n",
    "返回矩阵 answer。\n",
    "\n",
    "矩阵对角线是从最顶行或最左列的某个单元格开始，向右下方向走到矩阵末尾的对角线。\n",
    "\n",
    "如果单元格 (r1, c1) 和单元格 (r, c) 属于同一条对角线且 r1 < r，则单元格 (r1, c1) 属于单元格 (r, c) 的左上对角线。类似地，可以定义右下对角线。\n",
    "\n",
    "**示例 1：**\n",
    "\n",
    "![](https://assets.leetcode.com/uploads/2023/04/19/ex2.png)\n",
    "\n",
    "> 输入：grid = [[1,2,3],[3,1,5],[3,2,1]]\n",
    "> \n",
    "> 输出：[[1,1,0],[1,0,1],[0,1,1]]\n",
    "> \n",
    "> 解释：\n",
    "> - 单元格 (0,0) 的右下对角线包含 [1,1]，左上对角线包含 []。对应答案是 |1 - 0| = 1。\n",
    "> - 单元格 (1,2) 的右下对角线包含 []，左上对角线包含 [2]。对应答案是 |0 - 1| = 1。\n",
    "> - 单元格 (1,1) 的右下对角线包含 [1]，左上对角线包含 [1]。对应答案是 |1 - 1| = 0。\n",
    "> 其他单元格的对应答案也可以按照这样的流程进行计算。\n",
    "\n",
    "**示例 2：**\n",
    "\n",
    "> 输入：grid = [[1]]\n",
    "> \n",
    "> 输出：[[0]]\n",
    "> \n",
    "> 解释：\n",
    "> - 单元格 (0,0) 的右下对角线包含 []，左上对角线包含 []。对应答案是 |0 - 0| = 0。\n",
    "\n",
    "**提示：**\n",
    "\n",
    "- m == grid.length\n",
    "- n == grid[i].length\n",
    "- 1 <= m, n, grid[i][j] <= 50"
   ]
  },
  {
   "cell_type": "code",
   "execution_count": 23,
   "id": "60e7b11a",
   "metadata": {},
   "outputs": [],
   "source": [
    "from typing import List\n",
    "from collections import defaultdict\n",
    "\n",
    "class Solution:\n",
    "    def differenceOfDistinctValues(self, grid: List[List[int]]) -> List[List[int]]:\n",
    "        m, n = len(grid), len(grid[0])\n",
    "        top_left = [[0] * n for _ in range(m)]\n",
    "        bottom_right = [[0] * n for _ in range(m)]\n",
    "        diagonals = defaultdict(list)\n",
    "        \n",
    "        # 将单元格按对角线分组\n",
    "        for i in range(m):\n",
    "            for j in range(n):\n",
    "                diagonals[i - j].append((i, j))\n",
    "        \n",
    "        # 预处理每个对角线的左上和右下不同值数量\n",
    "        for key in diagonals:\n",
    "            elements = diagonals[key]\n",
    "            \n",
    "            # 计算左上部分的不同值数目\n",
    "            seen = set()\n",
    "            for i, j in elements:\n",
    "                top_left[i][j] = len(seen)\n",
    "                seen.add(grid[i][j])\n",
    "            \n",
    "            # 计算右下部分的不同值数目\n",
    "            seen = set()\n",
    "            for i, j in reversed(elements):\n",
    "                bottom_right[i][j] = len(seen)\n",
    "                seen.add(grid[i][j])\n",
    "        \n",
    "        # 构建结果矩阵\n",
    "        ans = [[0] * n for _ in range(m)]\n",
    "        for i in range(m):\n",
    "            for j in range(n):\n",
    "                ans[i][j] = abs(top_left[i][j] - bottom_right[i][j])\n",
    "        \n",
    "        return ans"
   ]
  },
  {
   "cell_type": "code",
   "execution_count": 24,
   "id": "06690719",
   "metadata": {},
   "outputs": [],
   "source": [
    "from typing import List\n",
    "\n",
    "class Solution:\n",
    "    def differenceOfDistinctValues(self, grid: List[List[int]]) -> List[List[int]]:\n",
    "        m, n = len(grid), len(grid[0])\n",
    "        ans = [[0 for _ in range(n)] for _ in range(m)]\n",
    "        \n",
    "        def caculate(i: int, j: int) -> int:\n",
    "            # 左上角\n",
    "            topLeftNums = set()\n",
    "            left_i, left_j = i - 1, j - 1\n",
    "            while left_i >= 0 and left_j >= 0:\n",
    "                topLeftNums.add(grid[left_i][left_j])\n",
    "                left_i -= 1\n",
    "                left_j -= 1\n",
    "\n",
    "            # 右下角\n",
    "            bottomRightNums = set()\n",
    "            right_i, right_j = i + 1, j + 1\n",
    "            while right_i < m and right_j < n:\n",
    "                bottomRightNums.add(grid[right_i][right_j])\n",
    "                right_i += 1\n",
    "                right_j += 1\n",
    "\n",
    "            topLeft, bottomRight = 0, 0\n",
    "            for num in topLeftNums:\n",
    "                if num not in bottomRightNums:\n",
    "                    topLeft += 1\n",
    "            for num in bottomRightNums:\n",
    "                if num not in topLeftNums:\n",
    "                    bottomRight += 1\n",
    "\n",
    "            return abs(topLeft - bottomRight)\n",
    "        \n",
    "        for i in range(m):\n",
    "            for j in range(n):\n",
    "                ans[i][j] = caculate(i, j)\n",
    "\n",
    "        return ans"
   ]
  },
  {
   "cell_type": "markdown",
   "id": "829d78cd",
   "metadata": {},
   "source": [
    "## [k-avoiding 数组的最小总和](https://leetcode.cn/problems/determine-the-minimum-sum-of-a-k-avoiding-array/description/?envType=daily-question&envId=2025-03-26) 中等\n",
    "\n",
    "给你两个整数 n 和 k。\n",
    "\n",
    "对于一个由不同正整数组成的数组，如果其中不存在任何求和等于 k 的不同元素对，则称其为 k-avoiding 数组。返回长度为 n 的 k-avoiding 数组的可能的最小总和。\n",
    "\n",
    "**示例 1：**\n",
    "\n",
    "> 输入：n = 5, k = 4\n",
    "> \n",
    "> 输出：18\n",
    "> \n",
    "> 解释：设若 k-avoiding 数组为 [1,2,4,5,6]，其元素总和为 18。\n",
    "> \n",
    "> 可以证明不存在总和小于 18 的 k-avoiding 数组。\n",
    "\n",
    "**示例 2：**\n",
    "\n",
    "> 输入：n = 2, k = 6\n",
    "> \n",
    "> 输出：3\n",
    "> \n",
    "> 解释：可以构造数组 [1,2]，其元素总和为 3。\n",
    "> \n",
    "> 可以证明不存在总和小于 3 的 k-avoiding 数组。\n",
    "\n",
    "**提示：**\n",
    "- $1 <= n, k <= 50$"
   ]
  },
  {
   "cell_type": "code",
   "execution_count": 25,
   "id": "6a05b3f6",
   "metadata": {},
   "outputs": [],
   "source": [
    "class Solution:\n",
    "    def minimumSum(self, n: int, k: int) -> int:\n",
    "        ans = []\n",
    "        \n",
    "        for i in range(1, k // 2 + 1):\n",
    "            if len(ans) < n:\n",
    "                ans.append(i)\n",
    "            if len(ans) == n:\n",
    "                break\n",
    "        num = k\n",
    "        while len(ans) < n:\n",
    "            ans.append(num)\n",
    "            num += 1\n",
    "            \n",
    "        return sum(ans)"
   ]
  },
  {
   "cell_type": "code",
   "execution_count": 26,
   "id": "3597120e",
   "metadata": {},
   "outputs": [],
   "source": [
    "class Solution:\n",
    "    def minimumSum(self, n: int, k: int) -> int:\n",
    "        m = (k - 1) // 2\n",
    "        if n <= m:\n",
    "            return n * (n + 1) // 2\n",
    "        rest = n - m\n",
    "        if k % 2 == 0:\n",
    "            part1 = m * (m + 1) // 2\n",
    "            part2 = k // 2\n",
    "            part3 = (rest - 1) * k + (rest - 1) * (rest - 2) // 2\n",
    "            return part1 + part2 + part3\n",
    "        else:\n",
    "            part1 = m * (m + 1) // 2\n",
    "            part2 = rest * k + rest * (rest - 1) // 2\n",
    "            return part1 + part2"
   ]
  },
  {
   "cell_type": "markdown",
   "id": "eb90a3380b789ab8",
   "metadata": {
    "collapsed": false
   },
   "source": [
    "## 图书整理 I\n",
    "\n",
    "书店店员有一张链表形式的书单，每个节点代表一本书，节点中的值表示书的编号。为更方便整理书架，店员需要将书单倒过来排列，就可以从最后一本书开始整理，逐一将书放回到书架上。请倒序返回这个书单链表。\n",
    "\n",
    "示例 1：\n",
    "```\n",
    "输入：head = [3,6,4,1]\n",
    "\n",
    "输出：[1,4,6,3]\n",
    "```\n",
    "提示：\n",
    "```\n",
    "0 <= 链表长度 <= 10000\n",
    "```"
   ]
  },
  {
   "cell_type": "code",
   "execution_count": 27,
   "id": "initial_id",
   "metadata": {
    "ExecuteTime": {
     "end_time": "2024-03-03T06:30:56.798758500Z",
     "start_time": "2024-03-03T06:30:56.791487400Z"
    },
    "collapsed": true
   },
   "outputs": [],
   "source": [
    "# Definition for singly-linked list.\n",
    "class ListNode:\n",
    "    def __init__(self, val=0, next=None):\n",
    "        self.val = val\n",
    "        self.next = next"
   ]
  },
  {
   "cell_type": "code",
   "execution_count": 28,
   "id": "565d951183c15c46",
   "metadata": {
    "ExecuteTime": {
     "end_time": "2024-03-03T06:32:04.351548400Z",
     "start_time": "2024-03-03T06:32:04.345525300Z"
    },
    "collapsed": false
   },
   "outputs": [],
   "source": [
    "from typing import Optional, List\n",
    "\n",
    "\n",
    "def reverseBookList(self, head: Optional[ListNode]) -> List[int]:\n",
    "    res = []\n",
    "    while head:\n",
    "        res.append(head.val)\n",
    "        head = head.next\n",
    "    return res[::-1]"
   ]
  },
  {
   "cell_type": "code",
   "execution_count": 29,
   "id": "242a05fb0267b534",
   "metadata": {
    "ExecuteTime": {
     "end_time": "2024-03-03T06:32:35.391832700Z",
     "start_time": "2024-03-03T06:32:35.385808Z"
    },
    "collapsed": false
   },
   "outputs": [
    {
     "data": {
      "text/plain": [
       "[1, 4, 6, 3]"
      ]
     },
     "execution_count": 29,
     "metadata": {},
     "output_type": "execute_result"
    }
   ],
   "source": [
    "reverseBookList([3, 6, 4, 1], ListNode(3, ListNode(6, ListNode(4, ListNode(1)))))"
   ]
  },
  {
   "cell_type": "markdown",
   "id": "136dcdcdc02220d1",
   "metadata": {
    "collapsed": false
   },
   "source": [
    "## 删除链表节点\n",
    "给定单向链表的头指针和一个要删除的节点的值，定义一个函数删除该节点。\n",
    "返回删除后的链表的头节点。\n",
    "示例 1:\n",
    "```\n",
    "输入: head = [4,5,1,9], val = 5\n",
    "输出: [4,1,9]\n",
    "解释: 给定你链表中值为5的第二个节点，那么在调用了你的函数之后，该链表应变为 4 -> 1 -> 9.\n",
    "```\n",
    "示例 2:\n",
    "```\n",
    "输入: head = [4,5,1,9], val = 1\n",
    "输出: [4,5,9]\n",
    "解释: 给定你链表中值为 1 的第三个节点，那么在调用了你的函数之后，该链表应变为 4 -> 5 -> 9.\n",
    "```\n",
    "说明：\n",
    "\n",
    "* 题目保证链表中节点的值互不相同\n",
    "* 若使用 C 或 C++ 语言，你不需要 free 或 delete 被删除的节点"
   ]
  },
  {
   "cell_type": "code",
   "execution_count": 30,
   "id": "2f9ae5dad983c3a7",
   "metadata": {
    "ExecuteTime": {
     "end_time": "2024-03-05T05:18:48.696690800Z",
     "start_time": "2024-03-05T05:18:48.691537300Z"
    },
    "collapsed": false
   },
   "outputs": [],
   "source": [
    "class ListNode:\n",
    "    def __init__(self, x):\n",
    "        self.val = x\n",
    "        self.next = None\n",
    "\n",
    "\n",
    "def deleteNode(head: ListNode, val: int) -> ListNode:\n",
    "    if head.val == val:\n",
    "        return head.next\n",
    "    pre, cur = head, head.next\n",
    "    if cur:\n",
    "        while cur.val != val:\n",
    "            pre = cur\n",
    "            cur = cur.next\n",
    "        pre.next = cur.next\n",
    "    return head"
   ]
  },
  {
   "cell_type": "code",
   "execution_count": 31,
   "id": "8f9e0a34db4f3568",
   "metadata": {
    "ExecuteTime": {
     "end_time": "2024-03-05T05:19:25.606926600Z",
     "start_time": "2024-03-05T05:19:25.599412900Z"
    },
    "collapsed": false
   },
   "outputs": [
    {
     "name": "stdout",
     "output_type": "stream",
     "text": [
      "4\n",
      "1\n",
      "9\n"
     ]
    }
   ],
   "source": [
    "a = ListNode(4)\n",
    "b = ListNode(5)\n",
    "c = ListNode(1)\n",
    "d = ListNode(9)\n",
    "a.next = b\n",
    "b.next = c\n",
    "c.next = d\n",
    "res = deleteNode(head=a, val=5)\n",
    "while res:\n",
    "    print(res.val)\n",
    "    res = res.next"
   ]
  },
  {
   "cell_type": "code",
   "execution_count": 32,
   "id": "d299505b73aff8f7",
   "metadata": {
    "ExecuteTime": {
     "end_time": "2024-03-05T05:20:27.548155600Z",
     "start_time": "2024-03-05T05:20:27.527002Z"
    },
    "collapsed": false
   },
   "outputs": [
    {
     "name": "stdout",
     "output_type": "stream",
     "text": [
      "4\n",
      "5\n",
      "9\n"
     ]
    }
   ],
   "source": [
    "a = ListNode(4)\n",
    "b = ListNode(5)\n",
    "c = ListNode(1)\n",
    "d = ListNode(9)\n",
    "a.next = b\n",
    "b.next = c\n",
    "c.next = d\n",
    "res = deleteNode(head=a, val=1)\n",
    "while res:\n",
    "    print(res.val)\n",
    "    res = res.next"
   ]
  },
  {
   "cell_type": "markdown",
   "id": "903c5531ec659faf",
   "metadata": {
    "collapsed": false
   },
   "source": [
    "## 训练计划 III\n",
    "给定一个头节点为 head 的单链表用于记录一系列核心肌群训练编号，请将该系列训练编号 倒序 记录于链表并返回。\n",
    "\n",
    "示例 1：\n",
    "```\n",
    "输入：head = [1,2,3,4,5]\n",
    "输出：[5,4,3,2,1]\n",
    "```\n",
    "示例 2：\n",
    "```\n",
    "输入：head = [1,2]\n",
    "输出：[2,1]\n",
    "```\n",
    "示例 3：\n",
    "```\n",
    "输入：head = []\n",
    "输出：[]\n",
    "```\n",
    "提示：\n",
    "* 链表中节点的数目范围是 [0, 5000]\n",
    "* -5000 <= Node.val <= 5000"
   ]
  },
  {
   "cell_type": "code",
   "execution_count": 33,
   "id": "13c9c1aa6919d653",
   "metadata": {
    "ExecuteTime": {
     "end_time": "2024-03-05T05:29:33.477844800Z",
     "start_time": "2024-03-05T05:29:33.475056Z"
    },
    "collapsed": false
   },
   "outputs": [],
   "source": [
    "from typing import Optional, List\n",
    "\n",
    "\n",
    "class ListNode:\n",
    "    def __init__(self, val=0, next=None):\n",
    "        self.val = val\n",
    "        self.next = next\n",
    "\n",
    "\n",
    "def trainingPlanIII(head: Optional[ListNode]) -> Optional[ListNode]:\n",
    "    if not head:\n",
    "        return head\n",
    "    res = []\n",
    "    while head:\n",
    "        res.append(head.val)\n",
    "        head = head.next\n",
    "    head = ListNode(res[0])\n",
    "    for i in range(1, len(res)):\n",
    "        head = ListNode(res[i], head)\n",
    "    return head"
   ]
  },
  {
   "cell_type": "code",
   "execution_count": 34,
   "id": "d1e991a63a90d3f7",
   "metadata": {
    "ExecuteTime": {
     "end_time": "2024-03-05T05:29:34.981822400Z",
     "start_time": "2024-03-05T05:29:34.977813800Z"
    },
    "collapsed": false
   },
   "outputs": [
    {
     "name": "stdout",
     "output_type": "stream",
     "text": [
      "5\n",
      "4\n",
      "3\n",
      "2\n",
      "1\n"
     ]
    }
   ],
   "source": [
    "res = trainingPlanIII(ListNode(1, ListNode(2, ListNode(3, ListNode(4, ListNode(5))))))\n",
    "while res:\n",
    "    print(res.val)\n",
    "    res = res.next"
   ]
  },
  {
   "cell_type": "code",
   "execution_count": 35,
   "id": "a76181df0911b99b",
   "metadata": {
    "ExecuteTime": {
     "end_time": "2024-03-05T05:34:42.385145100Z",
     "start_time": "2024-03-05T05:34:42.380304200Z"
    },
    "collapsed": false
   },
   "outputs": [],
   "source": [
    "def PlanIII(head: Optional[ListNode]) -> Optional[ListNode]:\n",
    "    if not head:\n",
    "        return head\n",
    "    dummy = ListNode(0)\n",
    "    dummy.next = head\n",
    "    pre = dummy\n",
    "    cur = head\n",
    "    while cur.next:\n",
    "        tmp = cur.next\n",
    "        cur.next = tmp.next\n",
    "        tmp.next = pre.next\n",
    "        pre.next = tmp\n",
    "    return dummy.next"
   ]
  },
  {
   "cell_type": "code",
   "execution_count": 36,
   "id": "4230906650a3925a",
   "metadata": {
    "ExecuteTime": {
     "end_time": "2024-03-05T05:34:44.223624800Z",
     "start_time": "2024-03-05T05:34:44.219954100Z"
    },
    "collapsed": false
   },
   "outputs": [
    {
     "name": "stdout",
     "output_type": "stream",
     "text": [
      "5\n",
      "4\n",
      "3\n",
      "2\n",
      "1\n"
     ]
    }
   ],
   "source": [
    "res = PlanIII(ListNode(1, ListNode(2, ListNode(3, ListNode(4, ListNode(5))))))\n",
    "while res:\n",
    "    print(res.val)\n",
    "    res = res.next"
   ]
  },
  {
   "cell_type": "markdown",
   "id": "b3dd5289c38152d7",
   "metadata": {
    "collapsed": false
   },
   "source": [
    "## 训练计划 II\n",
    "给定一个头节点为 head 的链表用于记录一系列核心肌群训练项目编号，请查找并返回倒数第 cnt 个训练项目编号。\n",
    "\n",
    "示例 1：\n",
    "```\n",
    "输入：head = [2,4,7,8], cnt = 1\n",
    "输出：8\n",
    "```\n",
    "提示：\n",
    "* 1 <= head.length <= 100\n",
    "* 0 <= head[i] <= 100\n",
    "* 1 <= cnt <= head.length"
   ]
  },
  {
   "cell_type": "code",
   "execution_count": 37,
   "id": "41cc29929447f478",
   "metadata": {
    "ExecuteTime": {
     "end_time": "2024-03-05T05:44:16.978579100Z",
     "start_time": "2024-03-05T05:44:16.971061500Z"
    },
    "collapsed": false
   },
   "outputs": [],
   "source": [
    "from typing import Optional, List\n",
    "\n",
    "\n",
    "class ListNode:\n",
    "    def __init__(self, val=0, next=None):\n",
    "        self.val = val\n",
    "        self.next = next\n",
    "\n",
    "\n",
    "def trainingPlanII(head: Optional[ListNode], cnt: int) -> Optional[ListNode]:\n",
    "    if not head:\n",
    "        return head\n",
    "    res = []\n",
    "    while head:\n",
    "        res.append(head)\n",
    "        head = head.next\n",
    "    return res[-cnt]"
   ]
  },
  {
   "cell_type": "code",
   "execution_count": 38,
   "id": "6c2d3e95f119702b",
   "metadata": {
    "ExecuteTime": {
     "end_time": "2024-03-05T05:45:13.030031Z",
     "start_time": "2024-03-05T05:45:13.025992500Z"
    },
    "collapsed": false
   },
   "outputs": [
    {
     "name": "stdout",
     "output_type": "stream",
     "text": [
      "7\n",
      "8\n"
     ]
    }
   ],
   "source": [
    "res = trainingPlanII(ListNode(2, ListNode(4, ListNode(7, ListNode(8)))), 2)\n",
    "while res:\n",
    "    print(res.val)\n",
    "    res = res.next"
   ]
  },
  {
   "cell_type": "code",
   "execution_count": 39,
   "id": "5621b76164e62604",
   "metadata": {
    "ExecuteTime": {
     "end_time": "2024-03-05T05:52:55.783968600Z",
     "start_time": "2024-03-05T05:52:55.776482600Z"
    },
    "collapsed": false
   },
   "outputs": [],
   "source": [
    "from typing import Optional, List\n",
    "\n",
    "\n",
    "class ListNode:\n",
    "    def __init__(self, val=0, next=None):\n",
    "        self.val = val\n",
    "        self.next = next\n",
    "\n",
    "\n",
    "def PlanII(head: Optional[ListNode], cnt: int) -> Optional[ListNode]:\n",
    "    left, right = head, head\n",
    "    k = 0\n",
    "    while k < cnt:\n",
    "        right = right.next\n",
    "        k += 1\n",
    "    while right:\n",
    "        left = left.next\n",
    "        right = right.next\n",
    "    return left"
   ]
  },
  {
   "cell_type": "code",
   "execution_count": 40,
   "id": "e60d2f3d920826d7",
   "metadata": {
    "ExecuteTime": {
     "end_time": "2024-03-05T05:52:57.256248500Z",
     "start_time": "2024-03-05T05:52:57.250917100Z"
    },
    "collapsed": false
   },
   "outputs": [
    {
     "name": "stdout",
     "output_type": "stream",
     "text": [
      "7\n",
      "8\n"
     ]
    }
   ],
   "source": [
    "res = PlanII(ListNode(2, ListNode(4, ListNode(7, ListNode(8)))), 2)\n",
    "while res:\n",
    "    print(res.val)\n",
    "    res = res.next"
   ]
  },
  {
   "cell_type": "markdown",
   "id": "a2e5bed1c03be788",
   "metadata": {
    "collapsed": false
   },
   "source": [
    "## 2960. 统计已测试设备"
   ]
  },
  {
   "cell_type": "code",
   "execution_count": 41,
   "id": "bbf6404f394dcfed",
   "metadata": {
    "ExecuteTime": {
     "end_time": "2024-03-26T10:36:47.806180Z",
     "start_time": "2024-03-26T10:36:47.803691Z"
    },
    "collapsed": false
   },
   "outputs": [],
   "source": [
    "def countTestedDevices(self, batteryPercentages: List[int]) -> int:\n",
    "    count = 0\n",
    "    n = len(batteryPercentages)\n",
    "    for i in range(n):\n",
    "        if batteryPercentages[i] > 0:\n",
    "            count += 1\n",
    "            for j in range(i, n):\n",
    "                batteryPercentages[j] = max(0, batteryPercentages[j] - 1)\n",
    "    return count"
   ]
  },
  {
   "cell_type": "code",
   "execution_count": 42,
   "id": "b7f22e3d061e2d76",
   "metadata": {
    "collapsed": false
   },
   "outputs": [],
   "source": [
    "def countTestedDevices(self, batteryPercentages: List[int]) -> int:\n",
    "    need = 0\n",
    "    for battery in batteryPercentages:\n",
    "        if battery > need:\n",
    "            need += 1\n",
    "    return need"
   ]
  },
  {
   "cell_type": "markdown",
   "id": "f2882ed7bd2ae56f",
   "metadata": {
    "collapsed": false
   },
   "source": [
    "## 2391. 收集垃圾的最少总时间"
   ]
  },
  {
   "cell_type": "code",
   "execution_count": 43,
   "id": "2a2702b9017dab4d",
   "metadata": {
    "ExecuteTime": {
     "end_time": "2024-03-26T10:36:42.685975Z",
     "start_time": "2024-03-26T10:36:42.683590Z"
    },
    "collapsed": false
   },
   "outputs": [],
   "source": [
    "def garbageCollection(self, garbage: List[str], travel: List[int]) -> int:\n",
    "    n = len(garbage)\n",
    "    res = 0\n",
    "    flag = False\n",
    "    for i in range(n - 1, -1, -1):\n",
    "        if 'M' in garbage[i]:\n",
    "            res += garbage[i].count('M') # 收拾垃圾的时间\n",
    "            # 计算行驶时间\n",
    "            if flag == False:\n",
    "                flag = True\n",
    "                for j in range(i):\n",
    "                    res += travel[j] # 从上一个垃圾点到当前垃圾点的时间\n",
    "    print(res)\n",
    "    flag = False\n",
    "    for i in range(n - 1, -1, -1):\n",
    "        if 'P' in garbage[i]:\n",
    "            res += garbage[i].count('P') # 收拾垃圾的时间\n",
    "            # 计算行驶时间\n",
    "            if flag == False:\n",
    "                flag = True\n",
    "                for j in range(i):\n",
    "                    res += travel[j] # 从上一个垃圾点到当前垃圾点的时间\n",
    "    print(res)\n",
    "    flag = False\n",
    "    for i in range(n - 1, -1, -1):\n",
    "        if 'G' in garbage[i]:\n",
    "            res += garbage[i].count('G') # 收拾垃圾的时间\n",
    "            # 计算行驶时间\n",
    "            if flag == False:\n",
    "                flag = True\n",
    "                for j in range(i):\n",
    "                    res += travel[j] # 从上一个垃圾点到当前垃圾点的时间\n",
    "    return res"
   ]
  },
  {
   "cell_type": "code",
   "execution_count": 44,
   "id": "7575a05197815058",
   "metadata": {
    "ExecuteTime": {
     "end_time": "2024-03-26T10:36:41.696392Z",
     "start_time": "2024-03-26T10:36:41.694448Z"
    },
    "collapsed": false
   },
   "outputs": [],
   "source": [
    "def garbageCollection(self, garbage: List[str], travel: List[int]) -> int:\n",
    "    n = len(garbage)\n",
    "    distance = {} # 用于存储不同的垃圾车移动的距离\n",
    "    res = 0\n",
    "    cur_dis = 0\n",
    "    for i in range(n):\n",
    "        res += len(garbage[i]) # 处理所有垃圾都耗时1个单位时间\n",
    "        # 计算移动距离\n",
    "        if i > 0:\n",
    "            cur_dis += travel[i - 1]\n",
    "        # 更新不同的垃圾车所移动的距离\n",
    "        for c in garbage[i]:\n",
    "            distance[c] = cur_dis\n",
    "    return res + sum(distance.values())"
   ]
  }
 ],
 "metadata": {
  "kernelspec": {
   "display_name": "base",
   "language": "python",
   "name": "python3"
  },
  "language_info": {
   "codemirror_mode": {
    "name": "ipython",
    "version": 3
   },
   "file_extension": ".py",
   "mimetype": "text/x-python",
   "name": "python",
   "nbconvert_exporter": "python",
   "pygments_lexer": "ipython3",
   "version": "3.12.9"
  }
 },
 "nbformat": 4,
 "nbformat_minor": 5
}
