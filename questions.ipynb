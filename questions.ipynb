{
 "cells": [
  {
   "cell_type": "markdown",
   "metadata": {},
   "source": [
    "## [面试题 17.14. 最小K个数](https://leetcode.cn/problems/smallest-k-lcci/description/)\n",
    "\n",
    "设计一个算法，找出数组中最小的k个数。以任意顺序返回这k个数均可。\n",
    "\n",
    "示例：\n",
    "\n",
    "> 输入： arr = [1,3,5,7,2,4,6,8], k = 4\n",
    "> \n",
    "> 输出： [1,2,3,4]\n",
    "\n",
    "提示：\n",
    "- $0 <= len(arr) <= 100000$\n",
    "- $0 <= k <= min(100000, len(arr))$"
   ]
  },
  {
   "cell_type": "code",
   "execution_count": 2,
   "metadata": {},
   "outputs": [],
   "source": [
    "import heapq\n",
    "from typing import List\n",
    "\n",
    "class Solution:\n",
    "    def smallestK(self, arr: List[int], k: int) -> List[int]:\n",
    "        # 创建大根堆\n",
    "        small = []  # python 默认小根堆\n",
    "        for num in arr:\n",
    "            if len(small) < k:\n",
    "                heapq.heappush(small, -num)\n",
    "            else:\n",
    "                if -small[0] > num:\n",
    "                    heapq.heappop(small)\n",
    "                    heapq.heappush(small, -num)\n",
    "        return small"
   ]
  },
  {
   "cell_type": "code",
   "execution_count": null,
   "metadata": {},
   "outputs": [],
   "source": [
    "from typing import List\n",
    "\n",
    "class Solution:\n",
    "    def smallestK(self, arr: List[int], k: int) -> List[int]:\n",
    "        arr.sort()\n",
    "        return arr[:k]"
   ]
  },
  {
   "cell_type": "code",
   "execution_count": null,
   "metadata": {},
   "outputs": [],
   "source": [
    "from typing import List\n",
    "import heapq\n",
    "\n",
    "class Solution:\n",
    "    def smallestK(self, arr: List[int], k: int) -> List[int]:\n",
    "        if k == 0:\n",
    "            return []\n",
    "        # 直接使用 heapq.nsmallest 提供小根堆功能\n",
    "        return heapq.nsmallest(k, arr)"
   ]
  },
  {
   "cell_type": "markdown",
   "metadata": {},
   "source": [
    "## [279. 完全平方数](https://leetcode.cn/problems/perfect-squares/description/)\n",
    "\n",
    "给你一个整数 n ，返回 和为 n 的完全平方数的最少数量 。\n",
    "\n",
    "完全平方数 是一个整数，其值等于另一个整数的平方；换句话说，其值等于一个整数自乘的积。例如，1、4、9 和 16 都是完全平方数，而 3 和 11 不是。 \n",
    "\n",
    "示例 1：\n",
    "\n",
    "> 输入：n = 12\n",
    "> \n",
    "> 输出：3 \n",
    "> \n",
    "> 解释：12 = 4 + 4 + 4\n",
    "\n",
    "示例 2：\n",
    "\n",
    "> 输入：n = 13\n",
    "> \n",
    "> 输出：2\n",
    "> \n",
    "> 解释：13 = 4 + 9\n",
    "\n",
    "提示：\n",
    "- $1 <= n <= 10^4$"
   ]
  },
  {
   "cell_type": "code",
   "execution_count": null,
   "metadata": {},
   "outputs": [],
   "source": [
    "import math\n",
    "\n",
    "class Solution:\n",
    "    def numSquares(self, n: int) -> int:\n",
    "        dp = [0] * (n + 1) # dp[i] 表示数字 i 最少可以由几个完全平方数相加得到\n",
    "        for i in range(1, n + 1):\n",
    "            for j in range(1, int(math.sqrt(i)) + 1):\n",
    "                dp[i] = min(dp[i], dp[i - j * j] + 1) if dp[i] != 0 else dp[i - j * j] + 1\n",
    "        return dp[n]"
   ]
  },
  {
   "cell_type": "code",
   "execution_count": null,
   "metadata": {},
   "outputs": [],
   "source": [
    "import math\n",
    "\n",
    "class Solution:\n",
    "    def numSquares(self, n: int) -> int:\n",
    "        dp = [float('inf')] * (n + 1)  # 表示当前数字 i 最少能被多少个平方数描述\n",
    "        dp[0] = 0\n",
    "        for i in range(1, n + 1):\n",
    "            # 枚举所有小于等于 根号i 的数\n",
    "            for j in range(1, int(math.sqrt(i)) + 1):\n",
    "                dp[i] = min(dp[i], dp[i - j*j] + 1)\n",
    "        return dp[n]"
   ]
  }
 ],
 "metadata": {
  "kernelspec": {
   "display_name": "base",
   "language": "python",
   "name": "python3"
  },
  "language_info": {
   "codemirror_mode": {
    "name": "ipython",
    "version": 3
   },
   "file_extension": ".py",
   "mimetype": "text/x-python",
   "name": "python",
   "nbconvert_exporter": "python",
   "pygments_lexer": "ipython3",
   "version": "3.12.8"
  }
 },
 "nbformat": 4,
 "nbformat_minor": 2
}
