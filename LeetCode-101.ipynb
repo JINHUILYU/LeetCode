{
 "cells": [
  {
   "cell_type": "markdown",
   "metadata": {},
   "source": [
    "# [LeetCode 101: A Grinding Guide (Second Edition)](https://github.com/changgyhub/leetcode_101)"
   ]
  },
  {
   "cell_type": "markdown",
   "metadata": {},
   "source": [
    "## 动态规划"
   ]
  },
  {
   "cell_type": "markdown",
   "metadata": {},
   "source": [
    "### [413. 等差数列划分](https://leetcode.cn/problems/arithmetic-slices/description/?utm_source=LCUS&utm_medium=ip_redirect&utm_campaign=transfer2china) 中等 :star:\n",
    "\n",
    "如果一个数列 **至少有三个元素**，并且任意两个相邻元素之差相同，则称该数列为等差数列。\n",
    "\n",
    "- 例如，`[1,3,5,7,9]`、`[7,7,7,7]` 和 `[3,-1,-5,-9]` 都是等差数列。\n",
    "\n",
    "给你一个整数数组 `nums`，返回数组 `nums` 中所有为等差数组的 **子数组** 个数。\n",
    "\n",
    "**子数组** 是数组中的一个连续序列。\n",
    "\n",
    "**示例 1：**\n",
    "\n",
    "> 输入：nums = [1,2,3,4]\n",
    "> \n",
    "> 输出：3\n",
    "> \n",
    "> 解释：nums 中有三个子等差数组：[1，2，3]、[2，3，4] 和 [1,2,3,4] 自身。\n",
    "\n",
    "**示例 2：**\n",
    "\n",
    "> 输入：nums = [1]\n",
    "> \n",
    "> 输出：0\n",
    "\n",
    "**提示：**\n",
    "- `1 <= nums.length <= 5000`\n",
    "- `-1000 <= nums[i] <= 1000`"
   ]
  },
  {
   "cell_type": "code",
   "execution_count": null,
   "metadata": {},
   "outputs": [],
   "source": [
    "from typing import List\n",
    "\n",
    "class Solution:\n",
    "    def numberOfArithmeticSlices(self, nums: List[int]) -> int:\n",
    "        # nums[i] - nums[i - 1] == nums[i - 1] - nums[i - 2]\n",
    "        n = len(nums)\n",
    "        dp = [0] * n\n",
    "        for i in range(2, n):\n",
    "            # 是等差数列\n",
    "            if nums[i] - nums[i - 1] == nums[i - 1] - nums[i - 2]:\n",
    "                dp[i] = dp[i - 1] + 1\n",
    "        return sum(dp)"
   ]
  },
  {
   "cell_type": "markdown",
   "metadata": {},
   "source": [
    "### [64. 最小路径和](https://leetcode.cn/problems/minimum-path-sum/description/?utm_source=LCUS&utm_medium=ip_redirect&utm_campaign=transfer2china) 中等\n",
    "\n",
    "如果一个数列 **至少有三个元素**，并且任意两个相邻元素之差相同，则称该数列为等差数列。\n",
    "\n",
    "- 例如，`[1,3,5,7,9]`、`[7,7,7,7]` 和 `[3,-1,-5,-9]` 都是等差数列。\n",
    "\n",
    "给你一个整数数组 `nums`，返回数组 `nums` 中所有为等差数组的 **子数组** 个数。\n",
    "\n",
    "**子数组** 是数组中的一个连续序列。\n",
    "\n",
    "**示例 1：**\n",
    "\n",
    "> 输入：nums = [1,2,3,4]\n",
    "> \n",
    "> 输出：3\n",
    "> \n",
    "> 解释：nums 中有三个子等差数组：[1，2，3]、[2，3，4] 和 [1,2,3,4] 自身。\n",
    "\n",
    "**示例 2：**\n",
    "\n",
    "> 输入：nums = [1]\n",
    "> \n",
    "> 输出：0\n",
    "\n",
    "**提示：**\n",
    "- $1 <= nums.length <= 5000$\n",
    "- $-1000 <= nums[i] <= 1000$"
   ]
  },
  {
   "cell_type": "code",
   "execution_count": null,
   "metadata": {},
   "outputs": [],
   "source": [
    "class Solution:\n",
    "    def minPathSum(self, grid: List[List[int]]) -> int:\n",
    "        m, n = len(grid), len(grid[0])\n",
    "        # dp[i][j] = min(dp[i-1][j], dp[i][j-1]) + dp[i][j]\n",
    "        for i in range(1, m):\n",
    "            grid[i][0] += grid[i-1][0]\n",
    "        for j in range(1, n):\n",
    "            grid[0][j] += grid[0][j-1]\n",
    "        \n",
    "        for i in range(1, m):\n",
    "            for j in range(1, n):\n",
    "                grid[i][j] += min(grid[i-1][j], grid[i][j-1])\n",
    "        return grid[-1][-1]"
   ]
  },
  {
   "cell_type": "code",
   "execution_count": null,
   "metadata": {},
   "outputs": [],
   "source": [
    "class Solution:\n",
    "    def minPathSum(self, grid: List[List[int]]) -> int:\n",
    "        m, n = len(grid), len(grid[0])\n",
    "        dp = [[0] * n for _ in range(m)]\n",
    "        dp[0][0] = grid[0][0]\n",
    "        \n",
    "        # 初始化上边界\n",
    "        for i in range(1, n):\n",
    "            dp[0][i] = dp[0][i - 1] + grid[0][i]\n",
    "        # 初始化左边界\n",
    "        for i in range(1, m):\n",
    "            dp[i][0] = dp[i - 1][0] + grid[i][0]\n",
    "\n",
    "        for i in range(1, m):\n",
    "            for j in range(1, n):\n",
    "                dp[i][j] = grid[i][j] + min(dp[i - 1][j], dp[i][j - 1])\n",
    "        \n",
    "        return dp[-1][-1]"
   ]
  },
  {
   "cell_type": "markdown",
   "metadata": {},
   "source": [
    "### [542. 01 矩阵](https://leetcode.cn/problems/01-matrix/description/) 中等 :star:\n",
    "\n",
    "给定一个由 0 和 1 组成的矩阵 mat，请输出一个大小相同的矩阵，其中每一个格子是 mat 中对应位置元素到最近的 0 的距离。两个相邻元素间的距离为 1。\n",
    "\n",
    "**示例 1：**\n",
    "\n",
    "![](https://pic.leetcode-cn.com/1626667201-NCWmuP-image.png)\n",
    "\n",
    "> 输入：mat = [[0,0,0],[0,1,0],[0,0,0]]\n",
    "> \n",
    "> 输出：[[0,0,0],[0,1,0],[0,0,0]]\n",
    "\n",
    "**示例 2：**\n",
    "\n",
    "![](https://pic.leetcode-cn.com/1626667201-NCWmuP-image.png)\n",
    "\n",
    "> 输入：mat = [[0,0,0],[0,1,0],[1,1,1]]\n",
    "> \n",
    "> 输出：[[0,0,0],[0,1,0],[1,2,1]]\n",
    "\n",
    "**提示：**\n",
    "\n",
    "- $m == mat.length$\n",
    "- $n == mat[i].length$\n",
    "- $1 <= m, n <= 10^4$\n",
    "- $1 <= m * n <= 10^4$\n",
    "- mat[i][j] is either 0 or 1.\n",
    "- mat 中至少有一个 0"
   ]
  },
  {
   "cell_type": "code",
   "execution_count": null,
   "metadata": {},
   "outputs": [],
   "source": [
    "import sys\n",
    "\n",
    "class Solution:\n",
    "    def updateMatrix(self, mat: List[List[int]]) -> List[List[int]]:\n",
    "        # dp[i][j] = min(dp[i - 1][j], dp[i + 1][j], dp[i][j - 1], dp[i][j + 1]) + 1 if mat[i][j] != 0 else 0\n",
    "        m, n = len(mat), len(mat[0])\n",
    "        dp = [[sys.maxsize - 1 for _ in range(n)] for _ in range(m)]\n",
    "        # 从左上到右下\n",
    "        for i in range(m):\n",
    "            for j in range(n):\n",
    "                if mat[i][j] != 0:\n",
    "                    if i > 0:\n",
    "                        dp[i][j] = min(dp[i][j], dp[i - 1][j] + 1)\n",
    "                    if j > 0:\n",
    "                        dp[i][j] = min(dp[i][j], dp[i][j - 1] + 1)\n",
    "                else:\n",
    "                    dp[i][j] = 0\n",
    "\n",
    "        # 从右下到左上\n",
    "        for i in range(m - 1, -1, -1):\n",
    "            for j in range(n - 1, -1, -1):\n",
    "                if mat[i][j] != 0:\n",
    "                    if i < m - 1:\n",
    "                        dp[i][j] = min(dp[i][j], dp[i + 1][j] + 1)\n",
    "                    if j < n - 1:\n",
    "                        dp[i][j] = min(dp[i][j], dp[i][j + 1] + 1)  \n",
    "        \n",
    "        return dp"
   ]
  }
 ],
 "metadata": {
  "language_info": {
   "name": "python"
  }
 },
 "nbformat": 4,
 "nbformat_minor": 2
}
