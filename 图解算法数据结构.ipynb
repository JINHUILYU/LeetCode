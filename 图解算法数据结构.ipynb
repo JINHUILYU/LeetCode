{
 "cells": [
  {
   "cell_type": "markdown",
   "metadata": {},
   "source": [
    "# 图解算法数据结构"
   ]
  },
  {
   "cell_type": "markdown",
   "metadata": {},
   "source": [
    "## 贪心"
   ]
  },
  {
   "cell_type": "markdown",
   "metadata": {},
   "source": [
    "### 文物朝代判断\n",
    "展览馆展出来自 13 个朝代的文物，每排展柜展出 5 个文物。某排文物的摆放情况记录于数组 places，其中 places[i] 表示处于第 i 位文物的所属朝代编号。其中，编号为 0 的朝代表示未知朝代。请判断并返回这排文物的所属朝代编号是否能够视为连续的五个朝代（如遇未知朝代可算作连续情况）。\n",
    "\n",
    " \n",
    "\n",
    "示例 1：\n",
    "```\n",
    "输入: places = [0, 6, 9, 0, 7]\n",
    "输出: True\n",
    "```\n",
    "\n",
    "示例 2：\n",
    "```\n",
    "输入: places = [7, 8, 9, 10, 11]\n",
    "输出: True\n",
    "```\n",
    "\n",
    "提示：\n",
    "\n",
    "- ```places.length = 5```\n",
    "- ```0 <= places[i] <= 13```\n",
    "\n",
    "作者：Krahets\n",
    "链接：https://leetcode.cn/leetbook/read/illustration-of-algorithm/lho7d1/\n",
    "来源：力扣（LeetCode）\n",
    "著作权归作者所有。商业转载请联系作者获得授权，非商业转载请注明出处。"
   ]
  },
  {
   "cell_type": "code",
   "execution_count": 5,
   "metadata": {},
   "outputs": [],
   "source": [
    "from typing import List\n",
    "\n",
    "\n",
    "class Solution:\n",
    "    def checkDynasty(self, places: List[int]) -> bool:\n",
    "        # 统计出现的非零朝代\n",
    "        non_zero = [num for num in places if num != 0]\n",
    "        unique_dynasties = set(non_zero)\n",
    "\n",
    "        # 如果非零朝代有重复的，则直接返回FALSE\n",
    "        if len(non_zero) != len(unique_dynasties):\n",
    "            return False\n",
    "\n",
    "        # 计算最大值和最小值的差值\n",
    "        max_dyansty = max(non_zero) if non_zero else 0\n",
    "        min_dynasty = min(non_zero) if non_zero else 0\n",
    "\n",
    "        # 判断是否能够组成连续的 5 个数字\n",
    "        if max_dyansty - min_dynasty >= 5:\n",
    "            return False\n",
    "        return True"
   ]
  },
  {
   "cell_type": "code",
   "execution_count": 6,
   "metadata": {},
   "outputs": [
    {
     "name": "stdout",
     "output_type": "stream",
     "text": [
      "True\n",
      "True\n"
     ]
    }
   ],
   "source": [
    "places = [0, 6, 9, 0, 7]\n",
    "print(Solution().checkDynasty(places))  # True\n",
    "places = [7, 8, 9, 10, 11]\n",
    "print(Solution().checkDynasty(places))  # True"
   ]
  }
 ],
 "metadata": {
  "kernelspec": {
   "display_name": "req",
   "language": "python",
   "name": "python3"
  },
  "language_info": {
   "codemirror_mode": {
    "name": "ipython",
    "version": 3
   },
   "file_extension": ".py",
   "mimetype": "text/x-python",
   "name": "python",
   "nbconvert_exporter": "python",
   "pygments_lexer": "ipython3",
   "version": "3.9.0"
  }
 },
 "nbformat": 4,
 "nbformat_minor": 2
}
