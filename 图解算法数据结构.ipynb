{
 "cells": [
  {
   "cell_type": "markdown",
   "metadata": {},
   "source": [
    "# 图解算法数据结构"
   ]
  },
  {
   "cell_type": "markdown",
   "metadata": {},
   "source": [
    "## 贪心"
   ]
  },
  {
   "cell_type": "markdown",
   "metadata": {},
   "source": [
    "### 文物朝代判断\n",
    "展览馆展出来自 13 个朝代的文物，每排展柜展出 5 个文物。某排文物的摆放情况记录于数组 places，其中 places[i] 表示处于第 i 位文物的所属朝代编号。其中，编号为 0 的朝代表示未知朝代。请判断并返回这排文物的所属朝代编号是否能够视为连续的五个朝代（如遇未知朝代可算作连续情况）。\n",
    "\n",
    " \n",
    "\n",
    "示例 1：\n",
    "```\n",
    "输入: places = [0, 6, 9, 0, 7]\n",
    "输出: True\n",
    "```\n",
    "\n",
    "示例 2：\n",
    "```\n",
    "输入: places = [7, 8, 9, 10, 11]\n",
    "输出: True\n",
    "```\n",
    "\n",
    "提示：\n",
    "\n",
    "- ```places.length = 5```\n",
    "- ```0 <= places[i] <= 13```\n",
    "\n",
    "作者：Krahets\n",
    "链接：https://leetcode.cn/leetbook/read/illustration-of-algorithm/lho7d1/\n",
    "来源：力扣（LeetCode）\n",
    "著作权归作者所有。商业转载请联系作者获得授权，非商业转载请注明出处。"
   ]
  },
  {
   "cell_type": "code",
   "execution_count": 5,
   "metadata": {},
   "outputs": [],
   "source": [
    "from typing import List\n",
    "\n",
    "\n",
    "class Solution:\n",
    "    def checkDynasty(self, places: List[int]) -> bool:\n",
    "        # 统计出现的非零朝代\n",
    "        non_zero = [num for num in places if num != 0]\n",
    "        unique_dynasties = set(non_zero)\n",
    "\n",
    "        # 如果非零朝代有重复的，则直接返回FALSE\n",
    "        if len(non_zero) != len(unique_dynasties):\n",
    "            return False\n",
    "\n",
    "        # 计算最大值和最小值的差值\n",
    "        max_dyansty = max(non_zero) if non_zero else 0\n",
    "        min_dynasty = min(non_zero) if non_zero else 0\n",
    "\n",
    "        # 判断是否能够组成连续的 5 个数字\n",
    "        if max_dyansty - min_dynasty >= 5:\n",
    "            return False\n",
    "        return True"
   ]
  },
  {
   "cell_type": "code",
   "execution_count": 6,
   "metadata": {},
   "outputs": [
    {
     "name": "stdout",
     "output_type": "stream",
     "text": [
      "True\n",
      "True\n"
     ]
    }
   ],
   "source": [
    "places = [0, 6, 9, 0, 7]\n",
    "print(Solution().checkDynasty(places))  # True\n",
    "places = [7, 8, 9, 10, 11]\n",
    "print(Solution().checkDynasty(places))  # True"
   ]
  },
  {
   "cell_type": "markdown",
   "metadata": {},
   "source": [
    "### 破解闯关密码\n",
    "闯关游戏需要破解一组密码，闯关组给出的有关密码的线索是：\n",
    "\n",
    "一个拥有密码所有元素的非负整数数组 password\n",
    "密码是 password 中所有元素拼接后得到的最小的一个数\n",
    "请编写一个程序返回这个密码。\n",
    "\n",
    " \n",
    "\n",
    "示例 1:\n",
    "```\n",
    "输入: password = [15, 8, 7]\n",
    "输出: \"1578\"\n",
    "```\n",
    "示例 2:\n",
    "```\n",
    "输入: password = [0, 3, 30, 34, 5, 9]\n",
    "输出: \"03033459\"\n",
    "```\n",
    "\n",
    "提示:\n",
    "\n",
    "- ```0 < password.length <= 100```\n",
    "\n",
    "说明:\n",
    "\n",
    "- 输出结果可能非常大，所以你需要返回一个字符串而不是整数\n",
    "- 拼接起来的数字可能会有前导 0，最后结果不需要去掉前导 0\n",
    "\n",
    "作者：Krahets\n",
    "链接：https://leetcode.cn/leetbook/read/illustration-of-algorithm/lhrww7/\n",
    "来源：力扣（LeetCode）\n",
    "著作权归作者所有。商业转载请联系作者获得授权，非商业转载请注明出处。"
   ]
  },
  {
   "cell_type": "code",
   "execution_count": 2,
   "metadata": {},
   "outputs": [],
   "source": [
    "from functools import cmp_to_key\n",
    "from typing import List\n",
    "\n",
    "\n",
    "class Solution:\n",
    "    def crackPassword(self, password: List[int]) -> str:\n",
    "        # 自定义比较函数\n",
    "        def compare(x, y):\n",
    "            # 比较 x+y 和 y+x 的字典序\n",
    "            if x + y < y + x:\n",
    "                return -1  # 保持顺序\n",
    "            elif x + y > y + x:\n",
    "                return 1   # 交换顺序\n",
    "            else:\n",
    "                return 0   # 相等\n",
    "        # 将数字数组转为字符串数组\n",
    "        str_arr = list(map(str, password))\n",
    "        # 按照自定义规则排序\n",
    "        str_arr.sort(key=cmp_to_key(compare))\n",
    "        # 拼接成最终结果\n",
    "        return ''.join(str_arr)"
   ]
  },
  {
   "cell_type": "code",
   "execution_count": null,
   "metadata": {},
   "outputs": [
    {
     "name": "stdout",
     "output_type": "stream",
     "text": [
      "1578\n",
      "03033459\n"
     ]
    }
   ],
   "source": [
    "password = [15, 8, 7]\n",
    "print(Solution().crackPassword(password))  # 1578\n",
    "password = [0, 3, 30, 34, 5, 9]\n",
    "print(Solution().crackPassword(password))  # 03033459"
   ]
  },
  {
   "cell_type": "markdown",
   "metadata": {},
   "source": [
    "### 砍竹子 I\n",
    "现需要将一根长为正整数 bamboo_len 的竹子砍为若干段，每段长度均为正整数。请返回每段竹子长度的最大乘积是多少。\n",
    "\n",
    " \n",
    "\n",
    "示例 1：\n",
    "```\n",
    "输入: bamboo_len = 12\n",
    "输出: 81\n",
    "```\n",
    "提示：\n",
    "- ```2 <= bamboo_len <= 58```\n",
    "\n",
    "注意：本题与主站 343 题相同：https://leetcode-cn.com/problems/integer-break/\n",
    "\n",
    "作者：Krahets\n",
    "链接：https://leetcode.cn/leetbook/read/illustration-of-algorithm/lhp2v5/\n",
    "来源：力扣（LeetCode）\n",
    "著作权归作者所有。商业转载请联系作者获得授权，非商业转载请注明出处。"
   ]
  },
  {
   "cell_type": "markdown",
   "metadata": {},
   "source": [
    "对于整数拆分问题，一个有效的贪心策略是尽可能多地拆分成3，因为3是使得乘积最大的最优数字。如果最后剩下1或2，根据剩余的数目不同，处理方式也不同：\n",
    "\n",
    "1. 如果最后剩下1，那么不如将3中的一个拆分成2+1，因为3比2+1的乘积要大。\n",
    "2. 如果最后剩下2，那么就直接保留2，因为2比1+1的乘积要大。\n",
    "\n",
    "这个策略基于数学上的证明，即对于任意正整数n，有 $3^n > 2^{n+1}$ ，所以拆分成3的乘积会更大。"
   ]
  },
  {
   "cell_type": "code",
   "execution_count": null,
   "metadata": {},
   "outputs": [],
   "source": [
    "class Solution:\n",
    "    def cuttingBamboo(self, bamboo_len: int) -> int:\n",
    "        if bamboo_len <= 3:\n",
    "            return bamboo_len - 1\n",
    "        # 尽可能分成长度为 3 的段，如果拆分最后剩余 1 ，则将 1 和 3 合并成 4\n",
    "        num_3, remainder = bamboo_len // 3, bamboo_len % 3\n",
    "        if remainder == 1:\n",
    "            return pow(3, num_3 - 1) * 4\n",
    "        else:\n",
    "            return pow(3, num_3) * (remainder % 3 if remainder != 0 else 1)"
   ]
  },
  {
   "cell_type": "code",
   "execution_count": 11,
   "metadata": {},
   "outputs": [
    {
     "name": "stdout",
     "output_type": "stream",
     "text": [
      "81\n",
      "36\n"
     ]
    }
   ],
   "source": [
    "bamboo_len = 12\n",
    "print(Solution().cuttingBamboo(bamboo_len))  # 81\n",
    "bamboo_len = 10\n",
    "print(Solution().cuttingBamboo(bamboo_len))  # 36"
   ]
  },
  {
   "cell_type": "markdown",
   "metadata": {},
   "source": [
    "1. dp[i]代表的是长度为i时的解\n",
    "2. 状态转移方程是 ```dp[i] = max(dp[i], dp[i-j] * j, (i-j)*j)```"
   ]
  },
  {
   "cell_type": "code",
   "execution_count": null,
   "metadata": {},
   "outputs": [],
   "source": [
    "class Solution:\n",
    "    def cuttingBamboo(self, bamboo_len: int) -> int:\n",
    "        # 创建dp数组\n",
    "        dp = [0] * (bamboo_len + 1)\n",
    "        dp[1] = 1\n",
    "        for i in range(2, bamboo_len + 1):\n",
    "            for j in range(1, i):\n",
    "                dp[i] = max(dp[i], dp[i - j] * j, (i - j) * j)  # 不切割 vs 切割 （1 段 vs 切割多段）\n",
    "        return dp[bamboo_len]"
   ]
  },
  {
   "cell_type": "code",
   "execution_count": 13,
   "metadata": {},
   "outputs": [
    {
     "name": "stdout",
     "output_type": "stream",
     "text": [
      "81\n",
      "36\n"
     ]
    }
   ],
   "source": [
    "bamboo_len = 12\n",
    "print(Solution().cuttingBamboo(bamboo_len))  # 81\n",
    "bamboo_len = 10\n",
    "print(Solution().cuttingBamboo(bamboo_len))  # 36"
   ]
  },
  {
   "cell_type": "markdown",
   "metadata": {},
   "source": [
    "### 砍竹子 II\n",
    "现需要将一根长为正整数 bamboo_len 的竹子砍为若干段，每段长度均为 正整数。请返回每段竹子长度的 最大乘积 是多少。\n",
    "\n",
    "答案需要取模 1e9+7（1000000007），如计算初始结果为：1000000008，请返回 1。\n",
    "\n",
    " \n",
    "\n",
    "示例 1：\n",
    "```\n",
    "输入：bamboo_len = 12\n",
    "输出：81\n",
    "```\n",
    "\n",
    "提示：\n",
    "\n",
    "- ```2 <= bamboo_len <= 1000```\n",
    "\n",
    "注意：本题与主站 343 题相同：https://leetcode-cn.com/problems/integer-break/\n",
    "\n",
    "作者：Krahets\n",
    "链接：https://leetcode.cn/leetbook/read/illustration-of-algorithm/lhmp26/\n",
    "来源：力扣（LeetCode）\n",
    "著作权归作者所有。商业转载请联系作者获得授权，非商业转载请注明出处。"
   ]
  },
  {
   "cell_type": "code",
   "execution_count": null,
   "metadata": {},
   "outputs": [],
   "source": [
    "class Solution:\n",
    "    def cuttingBamboo(self, bamboo_len: int) -> int:\n",
    "        MOD = int(1e9+7)\n",
    "        if bamboo_len <= 3:\n",
    "            return bamboo_len - 1\n",
    "        # 尽可能分成长度为 3 的段，如果拆分最后剩余 1 ，则将 1 和 3 合并成 4\n",
    "        result = 1\n",
    "        while bamboo_len > 4:\n",
    "            bamboo_len -= 3  # 每次取出长度为 3 的段\n",
    "            result = (result * 3) % MOD\n",
    "        return (result * bamboo_len) % MOD"
   ]
  },
  {
   "cell_type": "code",
   "execution_count": 22,
   "metadata": {},
   "outputs": [
    {
     "name": "stdout",
     "output_type": "stream",
     "text": [
      "620946522\n"
     ]
    }
   ],
   "source": [
    "bamboo_len = 1000\n",
    "print(Solution().cuttingBamboo(bamboo_len))  # 620946522"
   ]
  },
  {
   "cell_type": "markdown",
   "metadata": {},
   "source": [
    "## 位运算"
   ]
  },
  {
   "cell_type": "markdown",
   "metadata": {},
   "source": [
    "### 位 1 的个数\n",
    "编写一个函数，输入是一个无符号整数（以二进制串的形式），返回其二进制表达式中数字位数为 '1' 的个数（也被称为 汉明重量).）。\n",
    "\n",
    " \n",
    "\n",
    "提示：\n",
    "\n",
    "- 请注意，在某些语言（如 Java）中，没有无符号整数类型。在这种情况下，输入和输出都将被指定为有符号整数类型，并且不应影响您的实现，因为无论整数是有符号的还是无符号的，其内部的二进制表示形式都是相同的。\n",
    "- 在 Java 中，编译器使用 二进制补码 记法来表示有符号整数。因此，在上面的 示例 3 中，输入表示有符号整数 -3。\n",
    " \n",
    "\n",
    "示例 1：\n",
    "```\n",
    "输入：n = 11 (控制台输入 00000000000000000000000000001011)\n",
    "输出：3\n",
    "解释：输入的二进制串 00000000000000000000000000001011 中，共有三位为 '1'。\n",
    "```\n",
    "示例 2：\n",
    "```\n",
    "输入：n = 128 (控制台输入 00000000000000000000000010000000)\n",
    "输出：1\n",
    "解释：输入的二进制串 00000000000000000000000010000000 中，共有一位为 '1'。\n",
    "```\n",
    "示例 3：\n",
    "```\n",
    "输入：n = 4294967293 (控制台输入 11111111111111111111111111111101，部分语言中 n = -3)\n",
    "输出：31\n",
    "解释：输入的二进制串 11111111111111111111111111111101 中，共有 31 位为 '1'。\n",
    "```\n",
    "\n",
    "提示：\n",
    "\n",
    "- 输入必须是长度为 ```32``` 的 二进制串 。\n",
    " \n",
    "\n",
    "注意：本题与主站 191 题相同：https://leetcode-cn.com/problems/number-of-1-bits/\n",
    "\n",
    "作者：Krahets\n",
    "链接：https://leetcode.cn/leetbook/read/illustration-of-algorithm/5vk1l3/\n",
    "来源：力扣（LeetCode）\n",
    "著作权归作者所有。商业转载请联系作者获得授权，非商业转载请注明出处。"
   ]
  },
  {
   "cell_type": "code",
   "execution_count": null,
   "metadata": {},
   "outputs": [],
   "source": [
    "class Solution:\n",
    "    def hammingWeight(self, n: int) -> int:\n",
    "        s = str(bin(n))  # 将数字转为二进制字符串\n",
    "        return s.count('1')"
   ]
  },
  {
   "cell_type": "code",
   "execution_count": 26,
   "metadata": {},
   "outputs": [
    {
     "name": "stdout",
     "output_type": "stream",
     "text": [
      "3\n",
      "1\n",
      "31\n"
     ]
    }
   ],
   "source": [
    "n = 11\n",
    "print(Solution().hammingWeight(n))  # 3\n",
    "n = 128\n",
    "print(Solution().hammingWeight(n))  # 1\n",
    "n = 4294967293\n",
    "print(Solution().hammingWeight(n))  # 31"
   ]
  },
  {
   "cell_type": "markdown",
   "metadata": {},
   "source": [
    "### 加密运算\n",
    "\n",
    "计算机安全专家正在开发一款高度安全的加密通信软件，需要在进行数据传输时对数据进行加密和解密操作。假定 dataA 和 dataB 分别为随机抽样的两次通信的数据量：\n",
    "\n",
    "- 正数为发送量\n",
    "- 负数为接受量\n",
    "- 0 为数据遗失\n",
    "请不使用四则运算符的情况下实现一个函数计算两次通信的数据量之和（三种情况均需被统计），以确保在数据传输过程中的高安全性和保密性。\n",
    "\n",
    " \n",
    "\n",
    "示例 1:\n",
    "```\n",
    "输入：dataA = 5, dataB = -1\n",
    "输出：4\n",
    "```\n",
    "\n",
    "提示：\n",
    "\n",
    "- ```dataA``` 和 ```dataB``` 均可能是负数或 0\n",
    "- 结果不会溢出 32 位整数\n",
    "\n",
    "作者：Krahets\n",
    "链接：https://leetcode.cn/leetbook/read/illustration-of-algorithm/5vz6d1/\n",
    "来源：力扣（LeetCode）\n",
    "著作权归作者所有。商业转载请联系作者获得授权，非商业转载请注明出处。"
   ]
  },
  {
   "cell_type": "code",
   "execution_count": 41,
   "metadata": {},
   "outputs": [],
   "source": [
    "class Solution:\n",
    "    def encryptionCalculate(self, dataA: int, dataB: int) -> int:\n",
    "        # 模拟 32 位整数的操作\n",
    "        MASK = 0xFFFFFFFF  # 保证结果在 32 位以内\n",
    "        MAX_INT = 0x7FFFFFFF  # 最大的正数范围（32 位）\n",
    "        while dataB != 0:\n",
    "            # 计算不带进位的加法\n",
    "            temp = (dataA ^ dataB) & MASK\n",
    "            # 计算进位\n",
    "            dataB = ((dataA & dataB) << 1) & MASK\n",
    "            dataA = temp\n",
    "        return dataA if dataA <= MAX_INT else ~(dataA ^ MASK)"
   ]
  },
  {
   "cell_type": "code",
   "execution_count": 42,
   "metadata": {},
   "outputs": [
    {
     "name": "stdout",
     "output_type": "stream",
     "text": [
      "4\n"
     ]
    }
   ],
   "source": [
    "dataA, dataB = 5, -1\n",
    "print(Solution().encryptionCalculate(dataA, dataB))  # 4"
   ]
  },
  {
   "cell_type": "markdown",
   "metadata": {},
   "source": [
    "### 撞色搭配\n",
    "整数数组 ```sockets``` 记录了一个袜子礼盒的颜色分布情况，其中 ```sockets[i]``` 表示该袜子的颜色编号。礼盒中除了一款撞色搭配的袜子，每种颜色的袜子均有两只。请设计一个程序，在时间复杂度 O(n)，空间复杂度O(1) 内找到这双撞色搭配袜子的两个颜色编号。\n",
    "\n",
    " \n",
    "\n",
    "示例 1：\n",
    "```\n",
    "输入：sockets = [4, 5, 2, 4, 6, 6]\n",
    "输出：[2,5] 或 [5,2]\n",
    "```\n",
    "示例 2：\n",
    "```\n",
    "输入：sockets = [1, 2, 4, 1, 4, 3, 12, 3]\n",
    "输出：[2,12] 或 [12,2]\n",
    "```\n",
    "\n",
    "提示：\n",
    "\n",
    "- ```2 <= sockets.length <= 10000```\n",
    "\n",
    "作者：Krahets\n",
    "链接：https://leetcode.cn/leetbook/read/illustration-of-algorithm/eubbnm/\n",
    "来源：力扣（LeetCode）\n",
    "著作权归作者所有。商业转载请联系作者获得授权，非商业转载请注明出处。"
   ]
  },
  {
   "cell_type": "code",
   "execution_count": 45,
   "metadata": {},
   "outputs": [],
   "source": [
    "class Solution:\n",
    "    def sockCollocation(self, sockets: List[int]) -> List[int]:\n",
    "        aXORb = 0\n",
    "        for sock in sockets:\n",
    "            aXORb ^= sock\n",
    "        # 找到 a 和 b 的不同位\n",
    "        diff = aXORb & (-aXORb)\n",
    "        a, b = 0, 0\n",
    "        for sock in sockets:\n",
    "            if sock & diff:\n",
    "                a ^= sock\n",
    "            else:\n",
    "                b ^= sock\n",
    "        return [a, b]"
   ]
  },
  {
   "cell_type": "code",
   "execution_count": 46,
   "metadata": {},
   "outputs": [
    {
     "name": "stdout",
     "output_type": "stream",
     "text": [
      "[5, 2]\n",
      "[2, 12]\n"
     ]
    }
   ],
   "source": [
    "sockets = [4, 5, 2, 4, 6, 6]\n",
    "print(Solution().sockCollocation(sockets))  # [5, 2]\n",
    "sockets = [1, 2, 4, 1, 4, 3, 12, 3]\n",
    "print(Solution().sockCollocation(sockets))  # [2, 12]"
   ]
  },
  {
   "cell_type": "markdown",
   "metadata": {},
   "source": [
    "### 训练计划 VI\n",
    "教学过程中，教练示范一次，学员跟做三次。该过程被混乱剪辑后，记录于数组 actions，其中 actions[i] 表示做出该动作的人员编号。请返回教练的编号。\n",
    "\n",
    " \n",
    "\n",
    "示例 1：\n",
    "```\n",
    "输入：actions = [5, 7, 5, 5]\n",
    "输出：7\n",
    "```\n",
    "示例 2：\n",
    "```\n",
    "输入：actions = [12, 1, 6, 12, 6, 12, 6]\n",
    "输出：1\n",
    "```\n",
    "\n",
    "提示：\n",
    "\n",
    "- ```1 <= actions.length <= 10000```\n",
    "- ```1 <= actions[i] < 2^31```\n",
    "\n",
    "作者：Krahets\n",
    "链接：https://leetcode.cn/leetbook/read/illustration-of-algorithm/9hyq1r/\n",
    "来源：力扣（LeetCode）\n",
    "著作权归作者所有。商业转载请联系作者获得授权，非商业转载请注明出处。"
   ]
  },
  {
   "cell_type": "code",
   "execution_count": 47,
   "metadata": {},
   "outputs": [],
   "source": [
    "class Solution:\n",
    "    def trainingPlan(self, actions: List[int]) -> int:\n",
    "        nums = {}\n",
    "        for num in actions:\n",
    "            if num in nums:\n",
    "                nums[num] += 1\n",
    "            else:\n",
    "                nums[num] = 1\n",
    "        # 返回只出现一次的数字\n",
    "        for num, count in nums.items():\n",
    "            if count == 1:\n",
    "                return num\n",
    "        return -1"
   ]
  },
  {
   "cell_type": "code",
   "execution_count": 48,
   "metadata": {},
   "outputs": [
    {
     "name": "stdout",
     "output_type": "stream",
     "text": [
      "7\n",
      "1\n"
     ]
    }
   ],
   "source": [
    "actions = [5, 7, 5, 5]\n",
    "print(Solution().trainingPlan(actions))  # 7\n",
    "actions = [12, 1, 6, 12, 6, 12, 6]\n",
    "print(Solution().trainingPlan(actions))  # 1"
   ]
  },
  {
   "cell_type": "code",
   "execution_count": null,
   "metadata": {},
   "outputs": [],
   "source": [
    "class Solution:\n",
    "    def trainingPlan(self, actions: List[int]) -> int:\n",
    "        result = 0\n",
    "        for num in actions:\n",
    "            result ^= num\n",
    "        return result"
   ]
  },
  {
   "cell_type": "code",
   "execution_count": null,
   "metadata": {},
   "outputs": [],
   "source": [
    "actions = [5, 7, 5, 5]\n",
    "print(Solution().trainingPlan(actions))  # 7\n",
    "actions = [12, 1, 6, 12, 6, 12, 6]\n",
    "print(Solution().trainingPlan(actions))  # 1"
   ]
  },
  {
   "cell_type": "markdown",
   "metadata": {},
   "source": [
    "### 库存管理 II\n",
    "仓库管理员以数组 ```stock``` 形式记录商品库存表。```stock[i]``` 表示商品 ```id```，可能存在重复。请返回库存表中数量大于 ```stock.length / 2``` 的商品 ```id```。\n",
    "\n",
    " \n",
    "\n",
    "示例 1:\n",
    "```\n",
    "输入: stock = [6, 1, 3, 1, 1, 1]\n",
    "输出: 1\n",
    "```\n",
    "\n",
    "限制：\n",
    "\n",
    "- ```1 <= stock.length <= 50000```\n",
    "- 给定数组为非空数组，且存在结果数字\n",
    " \n",
    "\n",
    "注意：本题与主站 169 题相同：https://leetcode-cn.com/problems/majority-element/\n",
    "\n",
    "作者：Krahets\n",
    "链接：https://leetcode.cn/leetbook/read/illustration-of-algorithm/99iy4g/\n",
    "来源：力扣（LeetCode）\n",
    "著作权归作者所有。商业转载请联系作者获得授权，非商业转载请注明出处。"
   ]
  },
  {
   "cell_type": "code",
   "execution_count": 54,
   "metadata": {},
   "outputs": [],
   "source": [
    "class Solution:\n",
    "    def inventoryManagement(self, stock: List[int]) -> int:\n",
    "        counts = {}\n",
    "        for num in stock:\n",
    "            if num in counts:\n",
    "                counts[num] += 1\n",
    "            else:\n",
    "                counts[num] = 1\n",
    "            if counts[num] > len(stock) // 2:\n",
    "                return num\n",
    "        return -1"
   ]
  },
  {
   "cell_type": "code",
   "execution_count": 55,
   "metadata": {},
   "outputs": [
    {
     "name": "stdout",
     "output_type": "stream",
     "text": [
      "1\n",
      "2\n"
     ]
    }
   ],
   "source": [
    "stock = [6, 1, 3, 1, 1, 1]\n",
    "print(Solution().inventoryManagement(stock))  # 1\n",
    "stock = [2, 2, 1, 1, 1, 2, 2]\n",
    "print(Solution().inventoryManagement(stock))  # 2"
   ]
  },
  {
   "cell_type": "code",
   "execution_count": null,
   "metadata": {},
   "outputs": [],
   "source": [
    "class Solution:\n",
    "    def inventoryManagement(self, stock: List[int]) -> int:\n",
    "        # 摩尔投票法\n",
    "        candidate, count = 0, 0\n",
    "        for num in stock:\n",
    "            if count == 0:\n",
    "                candidate = num\n",
    "            count += 1 if num == candidate else -1\n",
    "        return candidate"
   ]
  },
  {
   "cell_type": "code",
   "execution_count": 57,
   "metadata": {},
   "outputs": [
    {
     "name": "stdout",
     "output_type": "stream",
     "text": [
      "1\n",
      "2\n"
     ]
    }
   ],
   "source": [
    "stock = [6, 1, 3, 1, 1, 1]\n",
    "print(Solution().inventoryManagement(stock))  # 1\n",
    "stock = [2, 2, 1, 1, 1, 2, 2]\n",
    "print(Solution().inventoryManagement(stock))  # 2"
   ]
  },
  {
   "cell_type": "code",
   "execution_count": 58,
   "metadata": {},
   "outputs": [],
   "source": [
    "class Solution:\n",
    "    def inventoryManagement(self, stock: List[int]) -> int:\n",
    "        # sort\n",
    "        stock.sort()\n",
    "        return stock[len(stock) // 2]"
   ]
  },
  {
   "cell_type": "code",
   "execution_count": 59,
   "metadata": {},
   "outputs": [
    {
     "name": "stdout",
     "output_type": "stream",
     "text": [
      "1\n",
      "2\n"
     ]
    }
   ],
   "source": [
    "stock = [6, 1, 3, 1, 1, 1]\n",
    "print(Solution().inventoryManagement(stock))  # 1\n",
    "stock = [2, 2, 1, 1, 1, 2, 2]\n",
    "print(Solution().inventoryManagement(stock))  # 2"
   ]
  },
  {
   "cell_type": "markdown",
   "metadata": {},
   "source": [
    "### 查找总价格为目标值的两个商品\n",
    "购物车内的商品价格按照升序记录于数组 ```price```。请在购物车中找到两个商品的价格总和刚好是 ```target```。若存在多种情况，返回任一结果即可。\n",
    "\n",
    "示例 1：\n",
    "```\n",
    "输入：price = [3, 9, 12, 15], target = 18\n",
    "输出：[3,15] 或者 [15,3]\n",
    "```\n",
    "示例 2：\n",
    "```\n",
    "输入：price = [8, 21, 27, 34, 52, 66], target = 61\n",
    "输出：[27,34] 或者 [34,27]\n",
    "```\n",
    "\n",
    "提示：\n",
    "\n",
    "- ```1 <= price.length <= 10^5```\n",
    "- ```1 <= price[i] <= 10^6```\n",
    "- ```1 <= target <= 2*10^6```\n",
    "\n",
    "作者：Krahets\n",
    "链接：https://leetcode.cn/leetbook/read/illustration-of-algorithm/lhaea2/\n",
    "来源：力扣（LeetCode）\n",
    "著作权归作者所有。商业转载请联系作者获得授权，非商业转载请注明出处。"
   ]
  },
  {
   "cell_type": "code",
   "execution_count": 60,
   "metadata": {},
   "outputs": [],
   "source": [
    "class Solution:\n",
    "    def twoSum(self, price: List[int], target: int) -> List[int]:\n",
    "        for i in range(len(price) - 1):\n",
    "            for j in range(i + 1, len(price)):\n",
    "                if price[i] + price[j] == target:\n",
    "                    return [price[i], price[j]]\n",
    "        return []"
   ]
  },
  {
   "cell_type": "code",
   "execution_count": null,
   "metadata": {},
   "outputs": [
    {
     "name": "stdout",
     "output_type": "stream",
     "text": [
      "[3, 15]\n",
      "[27, 34]\n"
     ]
    }
   ],
   "source": [
    "price, target = [3, 9, 12, 15], 18\n",
    "print(Solution().twoSum(price, target))  # [3, 15]\n",
    "price, target = [8, 21, 27, 34, 52, 66], 61\n",
    "print(Solution().twoSum(price, target))  # [27, 34]"
   ]
  },
  {
   "cell_type": "code",
   "execution_count": 63,
   "metadata": {},
   "outputs": [],
   "source": [
    "class Solution:\n",
    "    def twoSum(self, price: List[int], target: int) -> List[int]:\n",
    "        # 使用哈希表\n",
    "        nums = {}\n",
    "        for i, num in enumerate(price):\n",
    "            if target - num in nums:\n",
    "                return [target - num, num]\n",
    "            nums[num] = i\n",
    "        return []"
   ]
  },
  {
   "cell_type": "code",
   "execution_count": 64,
   "metadata": {},
   "outputs": [
    {
     "name": "stdout",
     "output_type": "stream",
     "text": [
      "[3, 15]\n",
      "[27, 34]\n"
     ]
    }
   ],
   "source": [
    "price, target = [3, 9, 12, 15], 18\n",
    "print(Solution().twoSum(price, target))  # [3, 15]\n",
    "price, target = [8, 21, 27, 34, 52, 66], 61\n",
    "print(Solution().twoSum(price, target))  # [27, 34]"
   ]
  },
  {
   "cell_type": "code",
   "execution_count": 65,
   "metadata": {},
   "outputs": [],
   "source": [
    "class Solution:\n",
    "    def twoSum(self, price: List[int], target: int) -> List[int]:\n",
    "        # sort\n",
    "        price.sort()\n",
    "        left, right = 0, len(price) - 1\n",
    "        while left < right:\n",
    "            if price[left] + price[right] == target:\n",
    "                return [price[left], price[right]]\n",
    "            elif price[left] + price[right] < target:\n",
    "                left += 1\n",
    "            else:\n",
    "                right -= 1\n",
    "        return []"
   ]
  },
  {
   "cell_type": "code",
   "execution_count": 66,
   "metadata": {},
   "outputs": [
    {
     "name": "stdout",
     "output_type": "stream",
     "text": [
      "[3, 15]\n",
      "[27, 34]\n"
     ]
    }
   ],
   "source": [
    "price, target = [3, 9, 12, 15], 18\n",
    "print(Solution().twoSum(price, target))  # [3, 15]\n",
    "price, target = [8, 21, 27, 34, 52, 66], 61\n",
    "print(Solution().twoSum(price, target))  # [27, 34]"
   ]
  },
  {
   "cell_type": "markdown",
   "metadata": {},
   "source": [
    "### 数字 1 的个数\n",
    "给定一个整数 num，计算所有小于等于 num 的非负整数中数字 1 出现的个数。\n",
    "\n",
    " \n",
    "\n",
    "示例 1：\n",
    "```\n",
    "输入：num = 0\n",
    "输出：0\n",
    "```\n",
    "示例 2：\n",
    "```\n",
    "输入：num = 13\n",
    "输出：6\n",
    "```\n",
    "\n",
    "提示：\n",
    "\n",
    "- ```0 <= num < 109```\n",
    "\n",
    "注意：本题与主站 233 题相同：https://leetcode-cn.com/problems/number-of-digit-one/\n",
    "\n",
    "作者：Krahets\n",
    "链接：https://leetcode.cn/leetbook/read/illustration-of-algorithm/572jxs/\n",
    "来源：力扣（LeetCode）\n",
    "著作权归作者所有。商业转载请联系作者获得授权，非商业转载请注明出处。"
   ]
  }
 ],
 "metadata": {
  "kernelspec": {
   "display_name": "req",
   "language": "python",
   "name": "python3"
  },
  "language_info": {
   "codemirror_mode": {
    "name": "ipython",
    "version": 3
   },
   "file_extension": ".py",
   "mimetype": "text/x-python",
   "name": "python",
   "nbconvert_exporter": "python",
   "pygments_lexer": "ipython3",
   "version": "3.9.0"
  }
 },
 "nbformat": 4,
 "nbformat_minor": 2
}
