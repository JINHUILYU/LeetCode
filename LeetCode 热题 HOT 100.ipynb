{
 "cells": [
  {
   "cell_type": "markdown",
   "metadata": {},
   "source": [
    "# [LeetCode HOT 100](https://leetcode.cn/problem-list/2cktkvj/)"
   ]
  },
  {
   "cell_type": "markdown",
   "metadata": {},
   "source": [
    "## [160. 相交链表](https://leetcode.cn/problems/intersection-of-two-linked-lists/description/?envType=problem-list-v2&envId=2cktkvj)\n",
    "\n",
    "给你两个单链表的头节点 ```headA``` 和 ```headB``` ，请你找出并返回两个单链表相交的起始节点。如果两个链表不存在相交节点，返回 ```null``` 。\n",
    "\n",
    "图示两个链表在节点 ```c1``` 开始相交：\n",
    "\n",
    "![image](https://assets.leetcode-cn.com/aliyun-lc-upload/uploads/2018/12/14/160_statement.png)\n",
    "\n",
    "\n",
    "题目数据 **保证** 整个链式结构中不存在环。\n",
    "\n",
    "注意，函数返回结果后，链表必须 **保持其原始结构** 。"
   ]
  },
  {
   "cell_type": "code",
   "execution_count": null,
   "metadata": {},
   "outputs": [],
   "source": [
    "from typing import Optional\n",
    "\n",
    "\n",
    "# Definition for singly-linked list.\n",
    "class ListNode:\n",
    "    def __init__(self, x):\n",
    "        self.val = x\n",
    "        self.next = None\n",
    "\n",
    "class Solution:\n",
    "    def getIntersectionNode(self, headA: ListNode, headB: ListNode) -> Optional[ListNode]:\n",
    "        if not headA or not headB:\n",
    "            return None\n",
    "        p1 = headA\n",
    "        p2 = headB\n",
    "        while p1 != p2:\n",
    "            p1 = p1.next if p1 else headB\n",
    "            p2 = p2.next if p2 else headA\n",
    "        return p1"
   ]
  },
  {
   "cell_type": "markdown",
   "metadata": {},
   "source": [
    "## [236. 二叉树的最近公共祖先](https://leetcode.cn/problems/lowest-common-ancestor-of-a-binary-tree/description/?envType=problem-list-v2&envId=2cktkvj)\n",
    "给定一个二叉树, 找到该树中两个指定节点的最近公共祖先。\n",
    "\n",
    "对于有根树 T 的两个节点 p、q，最近公共祖先表示为一个节点 x，满足 x 是 p、q 的祖先且 x 的深度尽可能大（一个节点也可以是它自己的祖先）。\n",
    "\n",
    "示例 1：\n",
    "\n",
    "![image](https://assets.leetcode.com/uploads/2018/12/14/binarytree.png)\n",
    "\n",
    "> 输入：root = [3,5,1,6,2,0,8,null,null,7,4], p = 5, q = 1\n",
    ">\n",
    "> 输出：3\n",
    ">\n",
    "> 解释：节点 ```5``` 和节点 ```1``` 的最近公共祖先是节点 ```3``` 。\n",
    "\n",
    "示例 2：\n",
    "\n",
    "![image](https://assets.leetcode.com/uploads/2018/12/14/binarytree.png)\n",
    "\n",
    "> 输入：root = [3,5,1,6,2,0,8,null,null,7,4], p = 5, q = 4\n",
    ">\n",
    "> 输出：5\n",
    ">\n",
    "> 解释：节点 ```5``` 和节点 ```4``` 的最近公共祖先是节点 ```5``` 。因为根据定义最近公共祖先节点可以为节点本身。\n",
    "\n",
    "示例 3：\n",
    "\n",
    "> 输入：root = [1,2], p = 1, q = 2\n",
    "> \n",
    "> 输出：1\n",
    " \n",
    "\n",
    "提示：\n",
    "\n",
    "- 树中节点数目在范围 ```[2, 105]``` 内。\n",
    "- $-10^9$ <= Node.val <= $10^9$\n",
    "- 所有 Node.val 互不相同 。\n",
    "- p != q\n",
    "- p 和 q 均存在于给定的二叉树中。"
   ]
  },
  {
   "cell_type": "code",
   "execution_count": null,
   "metadata": {},
   "outputs": [],
   "source": [
    "# Definition for a binary tree node.\n",
    "class TreeNode:\n",
    "    def __init__(self, x):\n",
    "        self.val = x\n",
    "        self.left = None\n",
    "        self.right = None\n",
    "\n",
    "\n",
    "class Solution:\n",
    "    def lowestCommonAncestor(self, root: 'TreeNode', p: 'TreeNode', q: 'TreeNode') -> 'TreeNode':\n",
    "        pass"
   ]
  }
 ],
 "metadata": {
  "kernelspec": {
   "display_name": "req",
   "language": "python",
   "name": "python3"
  },
  "language_info": {
   "codemirror_mode": {
    "name": "ipython",
    "version": 3
   },
   "file_extension": ".py",
   "mimetype": "text/x-python",
   "name": "python",
   "nbconvert_exporter": "python",
   "pygments_lexer": "ipython3",
   "version": "3.9.0"
  }
 },
 "nbformat": 4,
 "nbformat_minor": 2
}
