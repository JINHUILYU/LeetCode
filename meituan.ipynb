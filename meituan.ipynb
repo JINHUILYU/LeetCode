{
 "cells": [
  {
   "cell_type": "markdown",
   "metadata": {},
   "source": [
    "# 镜像字符串\n",
    "\n",
    "有一个长度为 n 的字符串 s，他想知道这个字符串有多少个长度大于 1 的子串是可镜像的。\n",
    "\n",
    "**可镜像的定义**：\n",
    "- 一个字符串是回文串，且每个字符都有垂直对称轴。\n",
    "- 回文串：从左往右读和从右往左读相同。\n",
    "- 有垂直对称轴的大写字母：A, H, T, M, O, T, U, V, W, X, Y。\n",
    "\n",
    "## 输入描述\n",
    "\n",
    "输入一个长度为 n（1 ≤ n ≤ 100）的字符串 s，字符串仅包含大写字母。\n",
    "\n",
    "## 输出描述\n",
    "\n",
    "输出一个整数，表示字符串 s 中长度大于 1 的可镜像的子串的数量。\n",
    "\n",
    "## 样例 1\n",
    "\n",
    "> 输入：AHHAMTT\n",
    "> \n",
    "> 输出：3\n",
    "> \n",
    "> 样例解释：一共 3 个长度大于 1 的可镜像的子串：HH, AHHA, TT"
   ]
  },
  {
   "cell_type": "code",
   "execution_count": 5,
   "metadata": {
    "jupyter": {
     "is_executing": true
    }
   },
   "outputs": [
    {
     "name": "stdout",
     "output_type": "stream",
     "text": [
      "3\n"
     ]
    }
   ],
   "source": [
    "s = \"AHHAMTT\"\n",
    "if len(s) <= 1:\n",
    "    print(0)\n",
    "\n",
    "ans = 0\n",
    "n = len(s)\n",
    "mirror_chars = {'A', 'H', 'I', 'M', 'O', 'T', 'U', 'V', 'W', 'X', 'Y'}\n",
    "\n",
    "# 处理奇数长度的镜像回文子串\n",
    "for i in range(n):\n",
    "    left, right = i, i  # 以 s[i] 为中心\n",
    "    while left >= 0 and right < n and s[left] == s[right] and s[left] in mirror_chars:\n",
    "        if right - left + 1 > 1:\n",
    "            ans += 1\n",
    "        left -= 1\n",
    "        right += 1\n",
    "\n",
    "# 处理偶数长度的镜像回文子串\n",
    "for i in range(n - 1):\n",
    "    if s[i] == s[i + 1] and s[i] in mirror_chars:\n",
    "        left, right = i, i + 1  # 以 s[i] 和 s[i+1] 为中心\n",
    "        while left >= 0 and right < n and s[left] == s[right] and s[left] in mirror_chars:\n",
    "            ans += 1\n",
    "            left -= 1\n",
    "            right += 1\n",
    "\n",
    "print(ans)"
   ]
  },
  {
   "cell_type": "markdown",
   "metadata": {
    "vscode": {
     "languageId": "plaintext"
    }
   },
   "source": [
    "# 好数组\n",
    "\n",
    "众所周知，一个长度为 n（n 为奇数）的数组的中位数是其排序后下标为 $(n+1)/2$ 的数字。但薯条哥发现，有些长为奇数 n 的数组即便不排序，其下标为 (n+1)/2 的数字依然是其数组中位数，他将满足这样性质的数组称为“好数组”。\n",
    "\n",
    "现在有一个长度为 n 的排列 p，他想知道 p 中有多少个连续的区间组成的数组都是“好数组”。\n",
    "\n",
    "（即有多少对 l, r (1 ≤ l ≤ r ≤ n)，同时 r - l + 1 是奇数，满足 P_l, P_{l+1}, ..., P_r 是一个好数组。）\n",
    "\n",
    "## 输入描述\n",
    "\n",
    "每个测试文件内都包含多组测试数据。\n",
    "\n",
    "第一行输入一个正整数 T (1 ≤ T ≤ 1000)，表示测试数据的组数。\n",
    "\n",
    "接下来对于每组测试数据，输入包含两行：\n",
    "\n",
    "- 第一行输入两个整数 n (1 ≤ n ≤ 1e4)，表示排列 p 的长度。\n",
    "- 第二行输入 n 个整数 p_i (1 ≤ p_i ≤ n)，表示排列 P。\n",
    "\n",
    "（保证输入是一个排列，Σn ≤ 1e4）\n",
    "\n",
    "## 输出描述\n",
    "\n",
    "输出包含 T 行，每行一个正整数，表示合法的 l, r 对数。\n",
    "\n",
    "## 样例 1\n",
    "\n",
    "> 输入：\n",
    "> 1\n",
    "> \n",
    "> 5\n",
    "> \n",
    "> 3 2 1 4 5\n",
    "> \n",
    "> 输出：\n",
    "> \n",
    "> 7\n",
    "> \n",
    "> 样例解释：\n",
    "> \n",
    "> 好数组的区间有：[1, 1], [2, 2], [3, 3], [4, 4], [5, 5], [3, 2, 1], [1, 4, 5] # 7个"
   ]
  },
  {
   "cell_type": "code",
   "execution_count": 6,
   "metadata": {},
   "outputs": [
    {
     "name": "stdout",
     "output_type": "stream",
     "text": [
      "7\n"
     ]
    }
   ],
   "source": [
    "# 读取排列长度\n",
    "n = 5\n",
    "# 读取排列\n",
    "p = [3, 2, 1, 4, 5]\n",
    "\n",
    "# 计数器\n",
    "ans = 0\n",
    "\n",
    "# 枚举所有奇数长度区间\n",
    "for l in range(n):\n",
    "    for r in range(l, n):\n",
    "        # 检查区间长度是否为奇数\n",
    "        if (r - l + 1) % 2 == 0:\n",
    "            continue\n",
    "\n",
    "        # 计算中位数位置（从0开始）\n",
    "        mid = l + (r - l) // 2\n",
    "        mid_val = p[mid]\n",
    "\n",
    "        # 计算区间内小于和大于mid_val的元素个数\n",
    "        less_cnt = 0\n",
    "        greater_cnt = 0\n",
    "        for i in range(l, r + 1):\n",
    "            if p[i] < mid_val:\n",
    "                less_cnt += 1\n",
    "            elif p[i] > mid_val:\n",
    "                greater_cnt += 1\n",
    "\n",
    "        # 检查是否满足条件\n",
    "        if less_cnt == greater_cnt:\n",
    "            ans += 1\n",
    "\n",
    "# 输出结果\n",
    "print(ans)"
   ]
  },
  {
   "cell_type": "markdown",
   "metadata": {},
   "source": [
    "# 青蛙跳跃轨迹预测\n",
    "\n",
    "卢小姐养了一只非常聪明的电子青蛙，它在一个长度为 n 的一维坐标系上进行遥控训练。坐标系的点依次为 1, 2, ..., n，青蛙最初位于坐标 k 处。\n",
    "\n",
    "卢小姐制定了一串指令序列用于训练青蛙：\n",
    "\n",
    "- 指令 L：青蛙向左移动一个单位。如果青蛙当前位于坐标 1，则保持原位不动。\n",
    "- 指令 R：青蛙向右移动一个单位。如果青蛙当前位于坐标 n，则保持原位不动。\n",
    "- 指令 ?：这是一个随机指令，执行时会等概率地变成 L 或 R，然后青蛙按照变化后的指令移动。\n",
    "\n",
    "在执行完所有指令后，卢小姐想知道青蛙可能停留的位置。对于每个坐标点，如果存在某种指令?的取值方式使得青蛙最终停在该点，输出 1；否则输出 0。\n",
    "\n",
    "## 输入格式\n",
    "\n",
    "第一行输入两个整数 n 和 k (1 ≤ n ≤ 1e6, 1 ≤ k ≤ n)，分别表示坐标系长度和青蛙的初始位置。\n",
    "\n",
    "第二行输入一个长度不超过 1e6 的字符串 s，仅由字符 L、R 和 ? 组成，表示指令序列。\n",
    "\n",
    "## 输出格式\n",
    "\n",
    "输出一行，包含 n 个数字 a1, a2, ..., an (ai ∈ 0, 1)，表示青蛙是否有可能最终停在坐标 i 处。数字之间无需空格分隔。\n",
    "\n",
    "## 样例输入\n",
    "\n",
    "> 5 2\n",
    "> \n",
    "> ?????\n",
    "\n",
    "## 样例输出\n",
    "\n",
    "> 11111\n",
    "\n",
    "## 数据范围\n",
    "\n",
    "- $1 ≤ n ≤ 10^6$"
   ]
  },
  {
   "cell_type": "code",
   "execution_count": 7,
   "metadata": {},
   "outputs": [
    {
     "name": "stdout",
     "output_type": "stream",
     "text": [
      "11111\n"
     ]
    }
   ],
   "source": [
    "n, k = 5, 2\n",
    "s = \"?????\"\n",
    "\n",
    "# 用一个Python整数pos充当位集：如果pos的第(i-1)位是1，表示坐标i可达\n",
    "# (Python的整数是无限位长)\n",
    "pos = 1 << (k - 1)\n",
    "\n",
    "# 预先构造一个掩码，用于限制最高只能到 n 位\n",
    "# (1 << n) - 1 表示 n 个二进制 1\n",
    "all_ones_n = (1 << n) - 1\n",
    "\n",
    "def doL(x):\n",
    "    \"\"\"执行一次 L 操作后的可达集\"\"\"\n",
    "    # 整体右移一位\n",
    "    shifted = x >> 1\n",
    "    # 若最左端(坐标1)原本可达(即 x & 1 != 0)，继续保留在1\n",
    "    if x & 1:\n",
    "        # 让 shifted 的第0位设为1\n",
    "        shifted |= 1\n",
    "    return shifted\n",
    "\n",
    "def doR(x):\n",
    "    \"\"\"执行一次 R 操作后的可达集\"\"\"\n",
    "    # 整体左移一位\n",
    "    shifted = x << 1\n",
    "    # 截断到 n 位以内\n",
    "    shifted &= all_ones_n\n",
    "    # 若最右端(坐标n)原本可达 (即 x & (1<<(n-1)) != 0)， 依旧保持n可达\n",
    "    if x & (1 << (n - 1)):\n",
    "        shifted |= (1 << (n - 1))\n",
    "    return shifted\n",
    "\n",
    "for c in s:\n",
    "    if c == 'L':\n",
    "        pos = doL(pos)\n",
    "    elif c == 'R':\n",
    "        pos = doR(pos)\n",
    "    else:  # '?'\n",
    "        pos = doL(pos) | doR(pos)\n",
    "\n",
    "# pos 现在的二进制表示了所有“可最终停留位置”\n",
    "# 输出时，从坐标1到坐标n，对应pos的低位到高位\n",
    "# 注意Python中整数的位顺序: (pos >> (i-1)) & 1 对应坐标 i\n",
    "ans = []\n",
    "for i in range(n):\n",
    "    if pos & (1 << i):\n",
    "        ans.append('1')\n",
    "    else:\n",
    "        ans.append('0')\n",
    "# 因为 i=0 对应坐标1，i=n-1 对应坐标n，所以 ans 就是从1到n的顺序\n",
    "print(\"\".join(ans))"
   ]
  }
 ],
 "metadata": {
  "kernelspec": {
   "display_name": "base",
   "language": "python",
   "name": "python3"
  },
  "language_info": {
   "codemirror_mode": {
    "name": "ipython",
    "version": 3
   },
   "file_extension": ".py",
   "mimetype": "text/x-python",
   "name": "python",
   "nbconvert_exporter": "python",
   "pygments_lexer": "ipython3",
   "version": "3.12.9"
  }
 },
 "nbformat": 4,
 "nbformat_minor": 2
}
