{
 "cells": [
  {
   "cell_type": "markdown",
   "source": [
    "# LinkList"
   ],
   "metadata": {
    "collapsed": false
   },
   "id": "9961cfe315559d63"
  },
  {
   "cell_type": "markdown",
   "source": [
    "## 图书整理 I\n",
    "\n",
    "书店店员有一张链表形式的书单，每个节点代表一本书，节点中的值表示书的编号。为更方便整理书架，店员需要将书单倒过来排列，就可以从最后一本书开始整理，逐一将书放回到书架上。请倒序返回这个书单链表。\n",
    "\n",
    "示例 1：\n",
    "```\n",
    "输入：head = [3,6,4,1]\n",
    "\n",
    "输出：[1,4,6,3]\n",
    "```\n",
    "提示：\n",
    "```\n",
    "0 <= 链表长度 <= 10000\n",
    "```"
   ],
   "metadata": {
    "collapsed": false
   },
   "id": "eb90a3380b789ab8"
  },
  {
   "cell_type": "code",
   "execution_count": 1,
   "id": "initial_id",
   "metadata": {
    "collapsed": true,
    "ExecuteTime": {
     "end_time": "2024-03-03T06:30:56.798758500Z",
     "start_time": "2024-03-03T06:30:56.791487400Z"
    }
   },
   "outputs": [],
   "source": [
    "# Definition for singly-linked list.\n",
    "class ListNode:\n",
    "    def __init__(self, val=0, next=None):\n",
    "        self.val = val\n",
    "        self.next = next"
   ]
  },
  {
   "cell_type": "code",
   "outputs": [],
   "source": [
    "from typing import Optional, List\n",
    "\n",
    "\n",
    "def reverseBookList(self, head: Optional[ListNode]) -> List[int]:\n",
    "    res = []\n",
    "    while head:\n",
    "        res.append(head.val)\n",
    "        head = head.next\n",
    "    return res[::-1]"
   ],
   "metadata": {
    "collapsed": false,
    "ExecuteTime": {
     "end_time": "2024-03-03T06:32:04.351548400Z",
     "start_time": "2024-03-03T06:32:04.345525300Z"
    }
   },
   "id": "565d951183c15c46",
   "execution_count": 2
  },
  {
   "cell_type": "code",
   "outputs": [
    {
     "data": {
      "text/plain": "[1, 4, 6, 3]"
     },
     "execution_count": 4,
     "metadata": {},
     "output_type": "execute_result"
    }
   ],
   "source": [
    "reverseBookList([3,6,4,1], ListNode(3, ListNode(6, ListNode(4, ListNode(1)))))"
   ],
   "metadata": {
    "collapsed": false,
    "ExecuteTime": {
     "end_time": "2024-03-03T06:32:35.391832700Z",
     "start_time": "2024-03-03T06:32:35.385808Z"
    }
   },
   "id": "242a05fb0267b534",
   "execution_count": 4
  }
 ],
 "metadata": {
  "kernelspec": {
   "display_name": "Python 3",
   "language": "python",
   "name": "python3"
  },
  "language_info": {
   "codemirror_mode": {
    "name": "ipython",
    "version": 2
   },
   "file_extension": ".py",
   "mimetype": "text/x-python",
   "name": "python",
   "nbconvert_exporter": "python",
   "pygments_lexer": "ipython2",
   "version": "2.7.6"
  }
 },
 "nbformat": 4,
 "nbformat_minor": 5
}
