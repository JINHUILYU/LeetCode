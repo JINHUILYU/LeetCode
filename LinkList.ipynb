{
 "cells": [
  {
   "cell_type": "markdown",
   "source": [
    "# LinkList"
   ],
   "metadata": {
    "collapsed": false
   },
   "id": "9961cfe315559d63"
  },
  {
   "cell_type": "markdown",
   "source": [
    "## 图书整理 I\n",
    "\n",
    "书店店员有一张链表形式的书单，每个节点代表一本书，节点中的值表示书的编号。为更方便整理书架，店员需要将书单倒过来排列，就可以从最后一本书开始整理，逐一将书放回到书架上。请倒序返回这个书单链表。\n",
    "\n",
    "示例 1：\n",
    "```\n",
    "输入：head = [3,6,4,1]\n",
    "\n",
    "输出：[1,4,6,3]\n",
    "```\n",
    "提示：\n",
    "```\n",
    "0 <= 链表长度 <= 10000\n",
    "```"
   ],
   "metadata": {
    "collapsed": false
   },
   "id": "eb90a3380b789ab8"
  },
  {
   "cell_type": "code",
   "execution_count": 1,
   "id": "initial_id",
   "metadata": {
    "collapsed": true,
    "ExecuteTime": {
     "end_time": "2024-03-03T06:30:56.798758500Z",
     "start_time": "2024-03-03T06:30:56.791487400Z"
    }
   },
   "outputs": [],
   "source": [
    "# Definition for singly-linked list.\n",
    "class ListNode:\n",
    "    def __init__(self, val=0, next=None):\n",
    "        self.val = val\n",
    "        self.next = next"
   ]
  },
  {
   "cell_type": "code",
   "outputs": [],
   "source": [
    "from typing import Optional, List\n",
    "\n",
    "\n",
    "def reverseBookList(self, head: Optional[ListNode]) -> List[int]:\n",
    "    res = []\n",
    "    while head:\n",
    "        res.append(head.val)\n",
    "        head = head.next\n",
    "    return res[::-1]"
   ],
   "metadata": {
    "collapsed": false,
    "ExecuteTime": {
     "end_time": "2024-03-03T06:32:04.351548400Z",
     "start_time": "2024-03-03T06:32:04.345525300Z"
    }
   },
   "id": "565d951183c15c46",
   "execution_count": 2
  },
  {
   "cell_type": "code",
   "outputs": [
    {
     "data": {
      "text/plain": "[1, 4, 6, 3]"
     },
     "execution_count": 4,
     "metadata": {},
     "output_type": "execute_result"
    }
   ],
   "source": [
    "reverseBookList([3, 6, 4, 1], ListNode(3, ListNode(6, ListNode(4, ListNode(1)))))"
   ],
   "metadata": {
    "collapsed": false,
    "ExecuteTime": {
     "end_time": "2024-03-03T06:32:35.391832700Z",
     "start_time": "2024-03-03T06:32:35.385808Z"
    }
   },
   "id": "242a05fb0267b534",
   "execution_count": 4
  },
  {
   "cell_type": "markdown",
   "source": [
    "## 删除链表节点\n",
    "给定单向链表的头指针和一个要删除的节点的值，定义一个函数删除该节点。\n",
    "返回删除后的链表的头节点。\n",
    "示例 1:\n",
    "```\n",
    "输入: head = [4,5,1,9], val = 5\n",
    "输出: [4,1,9]\n",
    "解释: 给定你链表中值为5的第二个节点，那么在调用了你的函数之后，该链表应变为 4 -> 1 -> 9.\n",
    "```\n",
    "示例 2:\n",
    "```\n",
    "输入: head = [4,5,1,9], val = 1\n",
    "输出: [4,5,9]\n",
    "解释: 给定你链表中值为 1 的第三个节点，那么在调用了你的函数之后，该链表应变为 4 -> 5 -> 9.\n",
    "```\n",
    "说明：\n",
    "\n",
    "* 题目保证链表中节点的值互不相同\n",
    "* 若使用 C 或 C++ 语言，你不需要 free 或 delete 被删除的节点"
   ],
   "metadata": {
    "collapsed": false
   },
   "id": "136dcdcdc02220d1"
  },
  {
   "cell_type": "code",
   "execution_count": 17,
   "outputs": [],
   "source": [
    "class ListNode:\n",
    "    def __init__(self, x):\n",
    "        self.val = x\n",
    "        self.next = None\n",
    "\n",
    "\n",
    "def deleteNode(head: ListNode, val: int) -> ListNode:\n",
    "    if head.val == val:\n",
    "        return head.next\n",
    "    pre, cur = head, head.next\n",
    "    if cur:\n",
    "        while cur.val != val:\n",
    "            pre = cur\n",
    "            cur = cur.next\n",
    "        pre.next = cur.next\n",
    "    return head"
   ],
   "metadata": {
    "collapsed": false,
    "ExecuteTime": {
     "end_time": "2024-03-05T05:18:48.696690800Z",
     "start_time": "2024-03-05T05:18:48.691537300Z"
    }
   },
   "id": "2f9ae5dad983c3a7"
  },
  {
   "cell_type": "code",
   "execution_count": 21,
   "outputs": [
    {
     "name": "stdout",
     "output_type": "stream",
     "text": [
      "4\n",
      "1\n",
      "9\n"
     ]
    }
   ],
   "source": [
    "a = ListNode(4)\n",
    "b = ListNode(5)\n",
    "c = ListNode(1)\n",
    "d = ListNode(9)\n",
    "a.next = b\n",
    "b.next = c\n",
    "c.next = d\n",
    "res = deleteNode(head=a, val=5)\n",
    "while res:\n",
    "    print(res.val)\n",
    "    res = res.next"
   ],
   "metadata": {
    "collapsed": false,
    "ExecuteTime": {
     "end_time": "2024-03-05T05:19:25.606926600Z",
     "start_time": "2024-03-05T05:19:25.599412900Z"
    }
   },
   "id": "8f9e0a34db4f3568"
  },
  {
   "cell_type": "code",
   "execution_count": 22,
   "outputs": [
    {
     "name": "stdout",
     "output_type": "stream",
     "text": [
      "4\n",
      "5\n",
      "9\n"
     ]
    }
   ],
   "source": [
    "a = ListNode(4)\n",
    "b = ListNode(5)\n",
    "c = ListNode(1)\n",
    "d = ListNode(9)\n",
    "a.next = b\n",
    "b.next = c\n",
    "c.next = d\n",
    "res = deleteNode(head=a, val=1)\n",
    "while res:\n",
    "    print(res.val)\n",
    "    res = res.next"
   ],
   "metadata": {
    "collapsed": false,
    "ExecuteTime": {
     "end_time": "2024-03-05T05:20:27.548155600Z",
     "start_time": "2024-03-05T05:20:27.527002Z"
    }
   },
   "id": "d299505b73aff8f7"
  },
  {
   "cell_type": "markdown",
   "source": [
    "## 训练计划 III\n",
    "给定一个头节点为 head 的单链表用于记录一系列核心肌群训练编号，请将该系列训练编号 倒序 记录于链表并返回。\n",
    "\n",
    "示例 1：\n",
    "```\n",
    "输入：head = [1,2,3,4,5]\n",
    "输出：[5,4,3,2,1]\n",
    "```\n",
    "示例 2：\n",
    "```\n",
    "输入：head = [1,2]\n",
    "输出：[2,1]\n",
    "```\n",
    "示例 3：\n",
    "```\n",
    "输入：head = []\n",
    "输出：[]\n",
    "```\n",
    "提示：\n",
    "* 链表中节点的数目范围是 [0, 5000]\n",
    "* -5000 <= Node.val <= 5000"
   ],
   "metadata": {
    "collapsed": false
   },
   "id": "903c5531ec659faf"
  },
  {
   "cell_type": "code",
   "execution_count": 27,
   "outputs": [],
   "source": [
    "from typing import Optional, List\n",
    "\n",
    "\n",
    "class ListNode:\n",
    "    def __init__(self, val=0, next=None):\n",
    "        self.val = val\n",
    "        self.next = next\n",
    "\n",
    "\n",
    "def trainingPlanIII(head: Optional[ListNode]) -> Optional[ListNode]:\n",
    "    if not head:\n",
    "        return head\n",
    "    res = []\n",
    "    while head:\n",
    "        res.append(head.val)\n",
    "        head = head.next\n",
    "    head = ListNode(res[0])\n",
    "    for i in range(1, len(res)):\n",
    "        head = ListNode(res[i], head)\n",
    "    return head"
   ],
   "metadata": {
    "collapsed": false,
    "ExecuteTime": {
     "end_time": "2024-03-05T05:29:33.477844800Z",
     "start_time": "2024-03-05T05:29:33.475056Z"
    }
   },
   "id": "13c9c1aa6919d653"
  },
  {
   "cell_type": "code",
   "execution_count": 28,
   "outputs": [
    {
     "name": "stdout",
     "output_type": "stream",
     "text": [
      "5\n",
      "4\n",
      "3\n",
      "2\n",
      "1\n"
     ]
    }
   ],
   "source": [
    "res = trainingPlanIII(ListNode(1, ListNode(2, ListNode(3, ListNode(4, ListNode(5))))))\n",
    "while res:\n",
    "    print(res.val)\n",
    "    res = res.next"
   ],
   "metadata": {
    "collapsed": false,
    "ExecuteTime": {
     "end_time": "2024-03-05T05:29:34.981822400Z",
     "start_time": "2024-03-05T05:29:34.977813800Z"
    }
   },
   "id": "d1e991a63a90d3f7"
  },
  {
   "cell_type": "code",
   "execution_count": 29,
   "outputs": [],
   "source": [
    "def PlanIII(head: Optional[ListNode]) -> Optional[ListNode]:\n",
    "    if not head:\n",
    "        return head\n",
    "    dummy = ListNode(0)\n",
    "    dummy.next = head\n",
    "    pre = dummy\n",
    "    cur = head\n",
    "    while cur.next:\n",
    "        tmp = cur.next\n",
    "        cur.next = tmp.next\n",
    "        tmp.next = pre.next\n",
    "        pre.next = tmp\n",
    "    return dummy.next"
   ],
   "metadata": {
    "collapsed": false,
    "ExecuteTime": {
     "end_time": "2024-03-05T05:34:42.385145100Z",
     "start_time": "2024-03-05T05:34:42.380304200Z"
    }
   },
   "id": "a76181df0911b99b"
  },
  {
   "cell_type": "code",
   "execution_count": 30,
   "outputs": [
    {
     "name": "stdout",
     "output_type": "stream",
     "text": [
      "5\n",
      "4\n",
      "3\n",
      "2\n",
      "1\n"
     ]
    }
   ],
   "source": [
    "res = PlanIII(ListNode(1, ListNode(2, ListNode(3, ListNode(4, ListNode(5))))))\n",
    "while res:\n",
    "    print(res.val)\n",
    "    res = res.next"
   ],
   "metadata": {
    "collapsed": false,
    "ExecuteTime": {
     "end_time": "2024-03-05T05:34:44.223624800Z",
     "start_time": "2024-03-05T05:34:44.219954100Z"
    }
   },
   "id": "4230906650a3925a"
  },
  {
   "cell_type": "markdown",
   "source": [
    "## 训练计划 II\n",
    "给定一个头节点为 head 的链表用于记录一系列核心肌群训练项目编号，请查找并返回倒数第 cnt 个训练项目编号。\n",
    "\n",
    "示例 1：\n",
    "```\n",
    "输入：head = [2,4,7,8], cnt = 1\n",
    "输出：8\n",
    "```\n",
    "提示：\n",
    "* 1 <= head.length <= 100\n",
    "* 0 <= head[i] <= 100\n",
    "* 1 <= cnt <= head.length"
   ],
   "metadata": {
    "collapsed": false
   },
   "id": "b3dd5289c38152d7"
  },
  {
   "cell_type": "code",
   "execution_count": 35,
   "outputs": [],
   "source": [
    "from typing import Optional, List\n",
    "\n",
    "\n",
    "class ListNode:\n",
    "    def __init__(self, val=0, next=None):\n",
    "        self.val = val\n",
    "        self.next = next\n",
    "\n",
    "\n",
    "def trainingPlanII(head: Optional[ListNode], cnt: int) -> Optional[ListNode]:\n",
    "    if not head:\n",
    "        return head\n",
    "    res = []\n",
    "    while head:\n",
    "        res.append(head)\n",
    "        head = head.next\n",
    "    return res[-cnt]"
   ],
   "metadata": {
    "collapsed": false,
    "ExecuteTime": {
     "end_time": "2024-03-05T05:44:16.978579100Z",
     "start_time": "2024-03-05T05:44:16.971061500Z"
    }
   },
   "id": "41cc29929447f478"
  },
  {
   "cell_type": "code",
   "execution_count": 37,
   "outputs": [
    {
     "name": "stdout",
     "output_type": "stream",
     "text": [
      "7\n",
      "8\n"
     ]
    }
   ],
   "source": [
    "res = trainingPlanII(ListNode(2, ListNode(4, ListNode(7, ListNode(8)))), 2)\n",
    "while res:\n",
    "    print(res.val)\n",
    "    res = res.next"
   ],
   "metadata": {
    "collapsed": false,
    "ExecuteTime": {
     "end_time": "2024-03-05T05:45:13.030031Z",
     "start_time": "2024-03-05T05:45:13.025992500Z"
    }
   },
   "id": "6c2d3e95f119702b"
  },
  {
   "cell_type": "code",
   "execution_count": 38,
   "outputs": [],
   "source": [
    "from typing import Optional, List\n",
    "\n",
    "\n",
    "class ListNode:\n",
    "    def __init__(self, val=0, next=None):\n",
    "        self.val = val\n",
    "        self.next = next\n",
    "\n",
    "\n",
    "def PlanII(head: Optional[ListNode], cnt: int) -> Optional[ListNode]:\n",
    "    left, right = head, head\n",
    "    k = 0\n",
    "    while k < cnt:\n",
    "        right = right.next\n",
    "        k += 1\n",
    "    while right:\n",
    "        left = left.next\n",
    "        right = right.next\n",
    "    return left"
   ],
   "metadata": {
    "collapsed": false,
    "ExecuteTime": {
     "end_time": "2024-03-05T05:52:55.783968600Z",
     "start_time": "2024-03-05T05:52:55.776482600Z"
    }
   },
   "id": "5621b76164e62604"
  },
  {
   "cell_type": "code",
   "execution_count": 39,
   "outputs": [
    {
     "name": "stdout",
     "output_type": "stream",
     "text": [
      "7\n",
      "8\n"
     ]
    }
   ],
   "source": [
    "res = PlanII(ListNode(2, ListNode(4, ListNode(7, ListNode(8)))), 2)\n",
    "while res:\n",
    "    print(res.val)\n",
    "    res = res.next"
   ],
   "metadata": {
    "collapsed": false,
    "ExecuteTime": {
     "end_time": "2024-03-05T05:52:57.256248500Z",
     "start_time": "2024-03-05T05:52:57.250917100Z"
    }
   },
   "id": "e60d2f3d920826d7"
  }
 ],
 "metadata": {
  "kernelspec": {
   "display_name": "Python 3",
   "language": "python",
   "name": "python3"
  },
  "language_info": {
   "codemirror_mode": {
    "name": "ipython",
    "version": 2
   },
   "file_extension": ".py",
   "mimetype": "text/x-python",
   "name": "python",
   "nbconvert_exporter": "python",
   "pygments_lexer": "ipython2",
   "version": "2.7.6"
  }
 },
 "nbformat": 4,
 "nbformat_minor": 5
}
